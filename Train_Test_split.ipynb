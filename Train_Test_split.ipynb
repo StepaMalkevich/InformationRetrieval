{
 "cells": [
  {
   "cell_type": "code",
   "execution_count": null,
   "metadata": {
    "collapsed": true
   },
   "outputs": [],
   "source": [
    "data = pd.read_table(\"imhonet-films.tsv\")\n",
    "data = data.dropna(how='any')\n",
    "data = data.drop_duplicates(subset=['score', 'content_id', 'element_id', 'user_id'])"
   ]
  },
  {
   "cell_type": "code",
   "execution_count": null,
   "metadata": {
    "collapsed": true
   },
   "outputs": [],
   "source": [
    "user_id_list = data.user_id\n",
    "item_id_list = data.element_id\n",
    "rating_list = data.score\n",
    "sf = graphlab.SFrame({ 'user_id': user_id_list,\n",
    "                       'item_id': item_id_list,\n",
    "                       'rating': rating_list})"
   ]
  },
  {
   "cell_type": "code",
   "execution_count": null,
   "metadata": {
    "collapsed": true
   },
   "outputs": [],
   "source": [
    "train, test = graphlab.recommender.util.random_split_by_user(sf, item_test_proportion=0.2)"
   ]
  },
  {
   "cell_type": "code",
   "execution_count": null,
   "metadata": {
    "collapsed": true
   },
   "outputs": [],
   "source": [
    "import graphlab.aggregate as agg\n",
    "train_user_count = train.groupby(key_columns='user_id', operations={'count_of_marked_films': agg.COUNT()})\n",
    "test_user_count = test.groupby(key_columns='user_id', operations={'count_of_marked_films': agg.COUNT()})"
   ]
  },
  {
   "cell_type": "code",
   "execution_count": null,
   "metadata": {
    "collapsed": true
   },
   "outputs": [],
   "source": [
    "train_film_count = np.array(train_user_count['count_of_marked_films'])\n",
    "test_film_count = np.array(test_user_count['count_of_marked_films'])"
   ]
  },
  {
   "cell_type": "code",
   "execution_count": null,
   "metadata": {
    "collapsed": true
   },
   "outputs": [],
   "source": [
    "fig = plt.figure(figsize=(20, 5))\n",
    "\n",
    "plt.subplot (1, 2, 1)\n",
    "plt.hist(train_film_count, bins=100, log=True, range=[0, 250], color='g')\n",
    "plt.title (\"Train_User_Film\")\n",
    "plt.xlabel(\"Film Marked Count\")\n",
    "plt.ylabel(\"User Count\")\n",
    "\n",
    "plt.subplot (1, 2, 2)\n",
    "plt.hist(test_film_count, bins=100, log=True, range=[0, 250], color='b')\n",
    "plt.title (\"Test_User_Film\")\n",
    "plt.xlabel(\"Film Marked Count\")\n",
    "plt.ylabel(\"User Count\")"
   ]
  },
  {
   "cell_type": "code",
   "execution_count": null,
   "metadata": {
    "collapsed": true
   },
   "outputs": [],
   "source": [
    "sf = graphlab.SFrame(train)\n",
    "\n",
    "m2 = graphlab.recommender.popularity_recommender.create(sf, target='rating')"
   ]
  },
  {
   "cell_type": "code",
   "execution_count": null,
   "metadata": {
    "collapsed": true
   },
   "outputs": [],
   "source": [
    "from sklearn.metrics import mean_squared_error\n",
    "from scipy.stats import spearmanr\n",
    "\n",
    "def print_metrics(model, sf_test, name):\n",
    "    \n",
    "    df_test = sf_test.to_dataframe()\n",
    "    all_user_id_test = np.unique(test['user_id'])\n",
    "    list_mse = []\n",
    "    list_SPR = []\n",
    "\n",
    "    for user_id in all_user_id_test:\n",
    "        tmp = df_test[df_test['user_id'] == user_id]\n",
    "        user_id_list = list(tmp.user_id)\n",
    "        item_id_list = list(tmp.item_id)\n",
    "\n",
    "        if (len(item_id_list) <= 1):\n",
    "            continue\n",
    "        y_test = list(tmp.rating)\n",
    "        sf_test = graphlab.SFrame({'user_id': user_id_list,\n",
    "                                   'item_id': item_id_list})\n",
    "        y_pred = model.predict(sf_test)    \n",
    "        y_pred = list(y_pred)\n",
    "\n",
    "        MSE = mean_squared_error(y_test, y_pred)\n",
    "        list_mse.append(MSE)\n",
    "\n",
    "        SPR = spearmanr(y_test, y_pred)  \n",
    "\n",
    "        if (np.isnan(SPR[0])):\n",
    "            y_test.append(1)\n",
    "            y_pred.append(1)\n",
    "            SPR = spearmanr(y_test, y_pred) \n",
    "\n",
    "        list_SPR.append(SPR[0])\n",
    "\n",
    "    print name    \n",
    "    print \"MSE:\", np.average(list_mse)\n",
    "    print \"Spearman:\", np.average(list_SPR)\n",
    "    print \"MAP:\", mean_average_precision(model, df_pair_user_film_test)"
   ]
  },
  {
   "cell_type": "code",
   "execution_count": null,
   "metadata": {
    "collapsed": true
   },
   "outputs": [],
   "source": [
    "print_metrics(m2,test,'')"
   ]
  }
 ],
 "metadata": {
  "kernelspec": {
   "display_name": "Python [conda env:svd-env]",
   "language": "python",
   "name": "conda-env-svd-env-py"
  },
  "language_info": {
   "codemirror_mode": {
    "name": "ipython",
    "version": 2
   },
   "file_extension": ".py",
   "mimetype": "text/x-python",
   "name": "python",
   "nbconvert_exporter": "python",
   "pygments_lexer": "ipython2",
   "version": "2.7.12"
  }
 },
 "nbformat": 4,
 "nbformat_minor": 1
}
