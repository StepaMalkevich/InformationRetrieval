{
 "cells": [
  {
   "cell_type": "code",
   "execution_count": 1,
   "metadata": {
    "collapsed": true
   },
   "outputs": [],
   "source": [
    "import numpy as np\n",
    "import pandas as pd\n",
    "import warnings\n",
    "warnings.filterwarnings(\"ignore\")"
   ]
  },
  {
   "cell_type": "code",
   "execution_count": 2,
   "metadata": {
    "collapsed": true
   },
   "outputs": [],
   "source": [
    "import recsys.algorithm\n",
    "recsys.algorithm.VERBOSE = True"
   ]
  },
  {
   "cell_type": "code",
   "execution_count": 3,
   "metadata": {
    "collapsed": true
   },
   "outputs": [],
   "source": [
    "from recsys.algorithm.factorize import SVD"
   ]
  },
  {
   "cell_type": "markdown",
   "metadata": {},
   "source": [
    "### Воспользуемся методом PureSVD из библиотеки"
   ]
  },
  {
   "cell_type": "code",
   "execution_count": 4,
   "metadata": {
    "collapsed": true
   },
   "outputs": [],
   "source": [
    "df_pair_user_film_train = pd.read_csv('train_rating.csv')\n",
    "df_pair_user_film_test = pd.read_csv('test_rating.csv')"
   ]
  },
  {
   "cell_type": "code",
   "execution_count": 5,
   "metadata": {
    "collapsed": false
   },
   "outputs": [
    {
     "data": {
      "text/html": [
       "<div>\n",
       "<table border=\"1\" class=\"dataframe\">\n",
       "  <thead>\n",
       "    <tr style=\"text-align: right;\">\n",
       "      <th></th>\n",
       "      <th>user_id</th>\n",
       "      <th>element_id</th>\n",
       "      <th>score</th>\n",
       "    </tr>\n",
       "  </thead>\n",
       "  <tbody>\n",
       "    <tr>\n",
       "      <th>0</th>\n",
       "      <td>98304</td>\n",
       "      <td>1101771</td>\n",
       "      <td>9</td>\n",
       "    </tr>\n",
       "    <tr>\n",
       "      <th>1</th>\n",
       "      <td>16387</td>\n",
       "      <td>188463</td>\n",
       "      <td>6</td>\n",
       "    </tr>\n",
       "    <tr>\n",
       "      <th>2</th>\n",
       "      <td>16387</td>\n",
       "      <td>197307</td>\n",
       "      <td>10</td>\n",
       "    </tr>\n",
       "    <tr>\n",
       "      <th>3</th>\n",
       "      <td>16387</td>\n",
       "      <td>197531</td>\n",
       "      <td>9</td>\n",
       "    </tr>\n",
       "    <tr>\n",
       "      <th>4</th>\n",
       "      <td>16387</td>\n",
       "      <td>198284</td>\n",
       "      <td>7</td>\n",
       "    </tr>\n",
       "  </tbody>\n",
       "</table>\n",
       "</div>"
      ],
      "text/plain": [
       "   user_id  element_id  score\n",
       "0    98304     1101771      9\n",
       "1    16387      188463      6\n",
       "2    16387      197307     10\n",
       "3    16387      197531      9\n",
       "4    16387      198284      7"
      ]
     },
     "execution_count": 5,
     "metadata": {},
     "output_type": "execute_result"
    }
   ],
   "source": [
    "df_pair_user_film_train.head()"
   ]
  },
  {
   "cell_type": "code",
   "execution_count": 6,
   "metadata": {
    "collapsed": false
   },
   "outputs": [
    {
     "name": "stdout",
     "output_type": "stream",
     "text": [
      "Loading train_rating.csv\n",
      "Error (ID is not int) while reading: [u'user_id', u'element_id', u'score']\n",
      "\n"
     ]
    }
   ],
   "source": [
    "svd = SVD()\n",
    "svd.load_data(filename='train_rating.csv', sep=',', format={'col':0, 'row':1, 'value':2, 'ids': int})"
   ]
  },
  {
   "cell_type": "code",
   "execution_count": 23,
   "metadata": {
    "collapsed": false
   },
   "outputs": [
    {
     "name": "stdout",
     "output_type": "stream",
     "text": [
      "Creating matrix (14304 tuples)\n",
      "Matrix density is: 0.0833%\n",
      "Computing svd k=50, min_values=None, pre_normalize=None, mean_center=True, post_normalize=True\n",
      "[WARNING] min_values is set to None, meaning that some funky recommendations might appear!\n",
      "[WARNING] mean_center is True. svd.similar(...) might return nan's. If so, then do svd.compute(..., mean_center=False)\n"
     ]
    }
   ],
   "source": [
    "k = 50\n",
    "svd.compute(k=k, pre_normalize=None, mean_center=True, post_normalize=True)"
   ]
  },
  {
   "cell_type": "code",
   "execution_count": 24,
   "metadata": {
    "collapsed": false
   },
   "outputs": [
    {
     "data": {
      "text/plain": [
       "SparseMatrix (4675 by 3673)\n",
       "         98304      16387      65541      425990     7        ...\n",
       "1101771  9.000000      ---        ---        ---        ---\n",
       "188463      ---     6.000000      ---        ---        ---\n",
       "197307      ---    10.000000      ---        ---        ---\n",
       "197531      ---     9.000000      ---        ---        ---\n",
       "198284      ---     7.000000      ---        ---        ---\n",
       "190406      ---    10.000000      ---        ---        ---\n",
       "192013      ---    10.000000      ---        ---        ---\n",
       "198079      ---     9.000000      ---        ---        ---\n",
       "194794      ---     5.000000      ---        ---        ---\n",
       "195531      ---    10.000000      ---        ---        ---\n",
       "195911      ---     7.000000      ---        ---        ---\n",
       "218835      ---        ---     7.000000      ---        ---\n",
       "220040      ---        ---     7.000000      ---        ---\n",
       "1113431     ---        ---        ---     9.000000      ---\n",
       "219784      ---        ---        ---     8.000000      ---\n",
       "220089      ---        ---        ---        ---     7.000000\n",
       "219883      ---        ---        ---        ---     9.000000\n",
       "1126992     ---        ---        ---        ---        ---\n",
       "195459      ---        ---        ---        ---        ---\n",
       "236466      ---        ---        ---        ---        ---\n",
       "..."
      ]
     },
     "execution_count": 24,
     "metadata": {},
     "output_type": "execute_result"
    }
   ],
   "source": [
    "svd.get_matrix()"
   ]
  },
  {
   "cell_type": "code",
   "execution_count": null,
   "metadata": {
    "collapsed": false
   },
   "outputs": [],
   "source": []
  },
  {
   "cell_type": "code",
   "execution_count": 25,
   "metadata": {
    "collapsed": false
   },
   "outputs": [],
   "source": [
    "from sklearn.metrics import mean_squared_error\n",
    "from scipy.stats import spearmanr\n",
    "\n",
    "MIN_RATING = 1.0\n",
    "MAX_RATING = 10.0\n",
    "\n",
    "def print_metrics(svd_model, name):\n",
    "    all_user_id_test = np.unique(df_pair_user_film_test.user_id)\n",
    "    list_mse = []\n",
    "    list_SPR = []\n",
    "\n",
    "    for user_id in all_user_id_test:\n",
    "        y_test = []\n",
    "        y_pred = []\n",
    "        tmp = df_pair_user_film_test[df_pair_user_film_test['user_id'] == user_id]\n",
    "        \n",
    "        if (len(tmp.element_id) <= 1):\n",
    "            continue\n",
    "            \n",
    "        for row in tmp.iterrows():\n",
    "            index, series = row\n",
    "            u_id, f_id, score = series\n",
    "            ITEMID = f_id\n",
    "            USERID = u_id\n",
    "            pred = svd_model.predict(ITEMID, USERID, MIN_RATING, MAX_RATING)\n",
    "            y_pred.append(pred)\n",
    "            y_test.append(score)\n",
    "        MSE = mean_squared_error(y_test, y_pred)\n",
    "        list_mse.append(MSE)\n",
    "\n",
    "        SPR = spearmanr(y_test, y_pred) \n",
    "        if (np.isnan(SPR[0])):\n",
    "            y_test.append(1)\n",
    "            y_pred.append(1)\n",
    "            SPR = spearmanr(y_test, y_pred) \n",
    "\n",
    "        list_SPR.append(SPR[0])\n",
    "\n",
    "    print name    \n",
    "    print \"MSE:\", np.average(list_mse)\n",
    "    print \"Spearman:\", np.average(list_SPR)\n",
    "    print \"MAP:\", mean_average_precision(svd_model, df_pair_user_film_test)"
   ]
  },
  {
   "cell_type": "code",
   "execution_count": null,
   "metadata": {
    "collapsed": false
   },
   "outputs": [],
   "source": []
  },
  {
   "cell_type": "code",
   "execution_count": 26,
   "metadata": {
    "collapsed": true
   },
   "outputs": [],
   "source": [
    "def average_precision_score(predicted_rating, movieID_test, min_score=5):\n",
    "    \"\"\"\n",
    "    Parameters\n",
    "    ----------\n",
    "    predicted_rating : отсортированный по убыванию список пар (movie_ID, pred_score)\n",
    "    movieID_test : список movie_ID для теста\n",
    "    min_score : минимальный score, фильм которого считется релевантым\n",
    "    -------\n",
    "    average precision\n",
    "    \"\"\"\n",
    "    list_of_position = []\n",
    "    list_of_scores = []\n",
    "    k = 1\n",
    "    for row in predicted_rating:\n",
    "        movie_id, score = row\n",
    "        if (movie_id in movieID_test):\n",
    "            list_of_position.append(k) \n",
    "            list_of_scores.append(score)\n",
    "        k +=1\n",
    "        \n",
    "    list_of_scores = np.array(list_of_scores, dtype='float32')\n",
    "    list_of_position = np.array(list_of_position, dtype='float32')\n",
    "    list_of_position = list_of_position[list_of_scores >= min_score]   \n",
    "    \n",
    "    \n",
    "    arr = 1 / list_of_position \n",
    "    N = float(len(list_of_position)) \n",
    "    AP = 1 / N * np.sum(arr)\n",
    "    \n",
    "    return AP    "
   ]
  },
  {
   "cell_type": "code",
   "execution_count": 27,
   "metadata": {
    "collapsed": true
   },
   "outputs": [],
   "source": [
    "def mean_average_precision(svd_model, data_test):\n",
    "    all_userIDs = np.unique(data_test.user_id)\n",
    "    all_filmIDs = np.unique(data_test.element_id)\n",
    "    list_of_average_precision = []\n",
    "    \n",
    "    for user_id in all_userIDs:\n",
    "        test_user = data_test[data_test['user_id'] == user_id]\n",
    "        movieID_test = test_user.element_id\n",
    "        \n",
    "        recs = svd_model.recommend(user_id, n=5000, is_row=False)\n",
    "        \n",
    "        try:\n",
    "            AP = average_precision_score(recs, list(movieID_test), min_score=0)\n",
    "        except ZeroDivisionError:\n",
    "            continue\n",
    "            \n",
    "        if (np.isnan(AP)):\n",
    "            print user_id\n",
    "        list_of_average_precision.append(AP)\n",
    "     \n",
    "    return np.average(list_of_average_precision)    "
   ]
  },
  {
   "cell_type": "code",
   "execution_count": 28,
   "metadata": {
    "collapsed": false
   },
   "outputs": [
    {
     "name": "stdout",
     "output_type": "stream",
     "text": [
      "svd\n",
      "MSE: 4.30734586116\n",
      "Spearman: 0.34530441148\n",
      "MAP: 0.000914731742297\n"
     ]
    }
   ],
   "source": [
    "print_metrics(svd, 'svd')"
   ]
  },
  {
   "cell_type": "code",
   "execution_count": null,
   "metadata": {
    "collapsed": false
   },
   "outputs": [],
   "source": []
  },
  {
   "cell_type": "code",
   "execution_count": null,
   "metadata": {
    "collapsed": false
   },
   "outputs": [],
   "source": []
  },
  {
   "cell_type": "code",
   "execution_count": null,
   "metadata": {
    "collapsed": true
   },
   "outputs": [],
   "source": []
  }
 ],
 "metadata": {
  "anaconda-cloud": {},
  "kernelspec": {
   "display_name": "Python [conda env:svd-env]",
   "language": "python",
   "name": "conda-env-svd-env-py"
  },
  "language_info": {
   "codemirror_mode": {
    "name": "ipython",
    "version": 2
   },
   "file_extension": ".py",
   "mimetype": "text/x-python",
   "name": "python",
   "nbconvert_exporter": "python",
   "pygments_lexer": "ipython2",
   "version": "2.7.12"
  }
 },
 "nbformat": 4,
 "nbformat_minor": 1
}
