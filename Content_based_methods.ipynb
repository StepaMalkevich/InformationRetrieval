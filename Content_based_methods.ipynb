{
 "cells": [
  {
   "cell_type": "code",
   "execution_count": 1,
   "metadata": {
    "collapsed": false
   },
   "outputs": [],
   "source": [
    "import numpy as np\n",
    "import pandas as pd\n",
    "import pylab as plt\n",
    "%matplotlib inline"
   ]
  },
  {
   "cell_type": "markdown",
   "metadata": {},
   "source": [
    "### RankingFactorizationRecommender"
   ]
  },
  {
   "cell_type": "code",
   "execution_count": 2,
   "metadata": {
    "collapsed": true
   },
   "outputs": [],
   "source": [
    "import graphlab"
   ]
  },
  {
   "cell_type": "code",
   "execution_count": 3,
   "metadata": {
    "collapsed": false
   },
   "outputs": [],
   "source": [
    "from sklearn.metrics import mean_squared_error\n",
    "from scipy.stats import spearmanr\n",
    "\n",
    "def print_metrics(model, name):\n",
    "    all_user_id_test = np.unique(df_pair_user_film_test.user_id)\n",
    "    list_mse = []\n",
    "    list_SPR = []\n",
    "\n",
    "    for user_id in all_user_id_test:\n",
    "        tmp = df_pair_user_film_test[df_pair_user_film_test['user_id'] == user_id]\n",
    "        user_id_list = list(tmp.user_id)\n",
    "        item_id_list = list(tmp.element_id)\n",
    "\n",
    "        if (len(item_id_list) <= 1):\n",
    "            continue\n",
    "        y_test = list(tmp.score)\n",
    "        sf_test = graphlab.SFrame({'user_id': user_id_list,\n",
    "                                   'item_id': item_id_list})\n",
    "        y_pred = model.predict(sf_test)    \n",
    "        y_pred = list(y_pred)\n",
    "\n",
    "        MSE = mean_squared_error(y_test, y_pred)\n",
    "        list_mse.append(MSE)\n",
    "\n",
    "        SPR = spearmanr(y_test, y_pred)  \n",
    "\n",
    "        if (np.isnan(SPR[0])):\n",
    "            y_test.append(1)\n",
    "            y_pred.append(1)\n",
    "            SPR = spearmanr(y_test, y_pred) \n",
    "\n",
    "        list_SPR.append(SPR[0])\n",
    "\n",
    "        \n",
    "    m1 = np.average(list_mse)\n",
    "    m2 = np.average(list_SPR)\n",
    "    m3 = mean_average_precision(model, df_pair_user_film_test)\n",
    "    print name    \n",
    "    print \"MSE:\", m1\n",
    "    print \"Spearman:\", m2\n",
    "    print \"MAP:\", m3\n",
    "    return m1, m2, m3"
   ]
  },
  {
   "cell_type": "code",
   "execution_count": 4,
   "metadata": {
    "collapsed": false
   },
   "outputs": [],
   "source": [
    "def average_precision_score(predicted_rating, movieID_test, min_score=5):\n",
    "    \"\"\"\n",
    "    Parameters\n",
    "    ----------\n",
    "    predicted_rating : отсортированный по убыванию список пар (movie_ID, pred_score)\n",
    "    movieID_test : список movie_ID для теста\n",
    "    min_score : минимальный score, фильм которого считется релевантым\n",
    "    -------\n",
    "    average precision\n",
    "    \"\"\"\n",
    "    list_of_position = []\n",
    "    list_of_scores = []\n",
    "    k = 1\n",
    "    for row in predicted_rating:\n",
    "        movie_id = row['item_id']\n",
    "        score = row['score']\n",
    "        if (movie_id in movieID_test):\n",
    "            list_of_position.append(k) \n",
    "            list_of_scores.append(score)\n",
    "        k +=1\n",
    "       \n",
    "    list_of_scores = np.array(list_of_scores, dtype='float32')\n",
    "    list_of_position = np.array(list_of_position, dtype='float32')\n",
    "    list_of_position = list_of_position[list_of_scores >= min_score]\n",
    "          \n",
    "    arr = 1 / list_of_position \n",
    "    N = float(len(list_of_position)) \n",
    "    AP = 1 / N * np.sum(arr)\n",
    "    \n",
    "    return AP    "
   ]
  },
  {
   "cell_type": "code",
   "execution_count": 5,
   "metadata": {
    "collapsed": true
   },
   "outputs": [],
   "source": [
    "def mean_average_precision(model, data_test):\n",
    "    all_userIDs = np.unique(data_test.user_id)\n",
    "    all_filmIDs = np.unique(data_test.element_id)\n",
    "    list_of_average_precision = []\n",
    "    \n",
    "    for user_id in all_userIDs:\n",
    "        test_user = data_test[data_test['user_id'] == user_id]\n",
    "        movieID_test = test_user.element_id\n",
    "        \n",
    "        recs = model.recommend(users=[user_id], k=5000)\n",
    "        \n",
    "        try:\n",
    "            AP = average_precision_score(recs, list(movieID_test), min_score=5)\n",
    "        except ZeroDivisionError:\n",
    "            continue\n",
    "            \n",
    "        if (np.isnan(AP)):\n",
    "            print user_id\n",
    "        list_of_average_precision.append(AP)\n",
    "     \n",
    "    return np.average(list_of_average_precision)    "
   ]
  },
  {
   "cell_type": "code",
   "execution_count": 6,
   "metadata": {
    "collapsed": false
   },
   "outputs": [],
   "source": [
    "df_pair_user_film_train = pd.read_csv('train_rating.csv')\n",
    "df_pair_user_film_test = pd.read_csv('test_rating.csv')"
   ]
  },
  {
   "cell_type": "code",
   "execution_count": 7,
   "metadata": {
    "collapsed": false
   },
   "outputs": [
    {
     "data": {
      "text/html": [
       "<div>\n",
       "<table border=\"1\" class=\"dataframe\">\n",
       "  <thead>\n",
       "    <tr style=\"text-align: right;\">\n",
       "      <th></th>\n",
       "      <th>user_id</th>\n",
       "      <th>element_id</th>\n",
       "      <th>score</th>\n",
       "    </tr>\n",
       "  </thead>\n",
       "  <tbody>\n",
       "    <tr>\n",
       "      <th>0</th>\n",
       "      <td>98304</td>\n",
       "      <td>1101771</td>\n",
       "      <td>9</td>\n",
       "    </tr>\n",
       "    <tr>\n",
       "      <th>1</th>\n",
       "      <td>16387</td>\n",
       "      <td>188463</td>\n",
       "      <td>6</td>\n",
       "    </tr>\n",
       "    <tr>\n",
       "      <th>2</th>\n",
       "      <td>16387</td>\n",
       "      <td>197307</td>\n",
       "      <td>10</td>\n",
       "    </tr>\n",
       "    <tr>\n",
       "      <th>3</th>\n",
       "      <td>16387</td>\n",
       "      <td>197531</td>\n",
       "      <td>9</td>\n",
       "    </tr>\n",
       "    <tr>\n",
       "      <th>4</th>\n",
       "      <td>16387</td>\n",
       "      <td>198284</td>\n",
       "      <td>7</td>\n",
       "    </tr>\n",
       "  </tbody>\n",
       "</table>\n",
       "</div>"
      ],
      "text/plain": [
       "   user_id  element_id  score\n",
       "0    98304     1101771      9\n",
       "1    16387      188463      6\n",
       "2    16387      197307     10\n",
       "3    16387      197531      9\n",
       "4    16387      198284      7"
      ]
     },
     "execution_count": 7,
     "metadata": {},
     "output_type": "execute_result"
    }
   ],
   "source": [
    "df_pair_user_film_train.head()"
   ]
  },
  {
   "cell_type": "code",
   "execution_count": 8,
   "metadata": {
    "collapsed": false
   },
   "outputs": [],
   "source": [
    "user_id_list_train = list(df_pair_user_film_train.user_id)\n",
    "item_id_list_train = list(df_pair_user_film_train.element_id)\n",
    "rating_list_train = list(df_pair_user_film_train.score)"
   ]
  },
  {
   "cell_type": "markdown",
   "metadata": {},
   "source": [
    "### Latent Factor Model"
   ]
  },
  {
   "cell_type": "code",
   "execution_count": 9,
   "metadata": {
    "collapsed": false
   },
   "outputs": [
    {
     "name": "stdout",
     "output_type": "stream",
     "text": [
      "This non-commercial license of GraphLab Create for academic use is assigned to stepamalkevich@yandex.ru and will expire on November 24, 2017.\n"
     ]
    },
    {
     "name": "stderr",
     "output_type": "stream",
     "text": [
      "[INFO] graphlab.cython.cy_server: GraphLab Create v2.1 started. Logging: /tmp/graphlab_server_1481276579.log\n"
     ]
    },
    {
     "data": {
      "text/html": [
       "<pre>Recsys training: model = ranking_factorization_recommender</pre>"
      ],
      "text/plain": [
       "Recsys training: model = ranking_factorization_recommender"
      ]
     },
     "metadata": {},
     "output_type": "display_data"
    },
    {
     "data": {
      "text/html": [
       "<pre>Preparing data set.</pre>"
      ],
      "text/plain": [
       "Preparing data set."
      ]
     },
     "metadata": {},
     "output_type": "display_data"
    },
    {
     "data": {
      "text/html": [
       "<pre>    Data has 14304 observations with 3673 users and 4675 items.</pre>"
      ],
      "text/plain": [
       "    Data has 14304 observations with 3673 users and 4675 items."
      ]
     },
     "metadata": {},
     "output_type": "display_data"
    },
    {
     "data": {
      "text/html": [
       "<pre>    Data prepared in: 0.057528s</pre>"
      ],
      "text/plain": [
       "    Data prepared in: 0.057528s"
      ]
     },
     "metadata": {},
     "output_type": "display_data"
    },
    {
     "data": {
      "text/html": [
       "<pre>Training ranking_factorization_recommender for recommendations.</pre>"
      ],
      "text/plain": [
       "Training ranking_factorization_recommender for recommendations."
      ]
     },
     "metadata": {},
     "output_type": "display_data"
    },
    {
     "data": {
      "text/html": [
       "<pre>+--------------------------------+--------------------------------------------------+----------+</pre>"
      ],
      "text/plain": [
       "+--------------------------------+--------------------------------------------------+----------+"
      ]
     },
     "metadata": {},
     "output_type": "display_data"
    },
    {
     "data": {
      "text/html": [
       "<pre>| Parameter                      | Description                                      | Value    |</pre>"
      ],
      "text/plain": [
       "| Parameter                      | Description                                      | Value    |"
      ]
     },
     "metadata": {},
     "output_type": "display_data"
    },
    {
     "data": {
      "text/html": [
       "<pre>+--------------------------------+--------------------------------------------------+----------+</pre>"
      ],
      "text/plain": [
       "+--------------------------------+--------------------------------------------------+----------+"
      ]
     },
     "metadata": {},
     "output_type": "display_data"
    },
    {
     "data": {
      "text/html": [
       "<pre>| num_factors                    | Factor Dimension                                 | 100      |</pre>"
      ],
      "text/plain": [
       "| num_factors                    | Factor Dimension                                 | 100      |"
      ]
     },
     "metadata": {},
     "output_type": "display_data"
    },
    {
     "data": {
      "text/html": [
       "<pre>| regularization                 | L2 Regularization on Factors                     | 1e-09    |</pre>"
      ],
      "text/plain": [
       "| regularization                 | L2 Regularization on Factors                     | 1e-09    |"
      ]
     },
     "metadata": {},
     "output_type": "display_data"
    },
    {
     "data": {
      "text/html": [
       "<pre>| solver                         | Solver used for training                         | sgd      |</pre>"
      ],
      "text/plain": [
       "| solver                         | Solver used for training                         | sgd      |"
      ]
     },
     "metadata": {},
     "output_type": "display_data"
    },
    {
     "data": {
      "text/html": [
       "<pre>| linear_regularization          | L2 Regularization on Linear Coefficients         | 0.0001   |</pre>"
      ],
      "text/plain": [
       "| linear_regularization          | L2 Regularization on Linear Coefficients         | 0.0001   |"
      ]
     },
     "metadata": {},
     "output_type": "display_data"
    },
    {
     "data": {
      "text/html": [
       "<pre>| ranking_regularization         | Rank-based Regularization Weight                 | 0.0001   |</pre>"
      ],
      "text/plain": [
       "| ranking_regularization         | Rank-based Regularization Weight                 | 0.0001   |"
      ]
     },
     "metadata": {},
     "output_type": "display_data"
    },
    {
     "data": {
      "text/html": [
       "<pre>| max_iterations                 | Maximum Number of Iterations                     | 25       |</pre>"
      ],
      "text/plain": [
       "| max_iterations                 | Maximum Number of Iterations                     | 25       |"
      ]
     },
     "metadata": {},
     "output_type": "display_data"
    },
    {
     "data": {
      "text/html": [
       "<pre>+--------------------------------+--------------------------------------------------+----------+</pre>"
      ],
      "text/plain": [
       "+--------------------------------+--------------------------------------------------+----------+"
      ]
     },
     "metadata": {},
     "output_type": "display_data"
    },
    {
     "data": {
      "text/html": [
       "<pre>  Optimizing model using SGD; tuning step size.</pre>"
      ],
      "text/plain": [
       "  Optimizing model using SGD; tuning step size."
      ]
     },
     "metadata": {},
     "output_type": "display_data"
    },
    {
     "data": {
      "text/html": [
       "<pre>  Using 10000 / 14304 points for tuning the step size.</pre>"
      ],
      "text/plain": [
       "  Using 10000 / 14304 points for tuning the step size."
      ]
     },
     "metadata": {},
     "output_type": "display_data"
    },
    {
     "data": {
      "text/html": [
       "<pre>+---------+-------------------+------------------------------------------+</pre>"
      ],
      "text/plain": [
       "+---------+-------------------+------------------------------------------+"
      ]
     },
     "metadata": {},
     "output_type": "display_data"
    },
    {
     "data": {
      "text/html": [
       "<pre>| Attempt | Initial Step Size | Estimated Objective Value                |</pre>"
      ],
      "text/plain": [
       "| Attempt | Initial Step Size | Estimated Objective Value                |"
      ]
     },
     "metadata": {},
     "output_type": "display_data"
    },
    {
     "data": {
      "text/html": [
       "<pre>+---------+-------------------+------------------------------------------+</pre>"
      ],
      "text/plain": [
       "+---------+-------------------+------------------------------------------+"
      ]
     },
     "metadata": {},
     "output_type": "display_data"
    },
    {
     "data": {
      "text/html": [
       "<pre>| 0       | 25                | Not Viable                               |</pre>"
      ],
      "text/plain": [
       "| 0       | 25                | Not Viable                               |"
      ]
     },
     "metadata": {},
     "output_type": "display_data"
    },
    {
     "data": {
      "text/html": [
       "<pre>| 1       | 6.25              | Not Viable                               |</pre>"
      ],
      "text/plain": [
       "| 1       | 6.25              | Not Viable                               |"
      ]
     },
     "metadata": {},
     "output_type": "display_data"
    },
    {
     "data": {
      "text/html": [
       "<pre>| 2       | 1.5625            | Not Viable                               |</pre>"
      ],
      "text/plain": [
       "| 2       | 1.5625            | Not Viable                               |"
      ]
     },
     "metadata": {},
     "output_type": "display_data"
    },
    {
     "data": {
      "text/html": [
       "<pre>| 3       | 0.390625          | Not Viable                               |</pre>"
      ],
      "text/plain": [
       "| 3       | 0.390625          | Not Viable                               |"
      ]
     },
     "metadata": {},
     "output_type": "display_data"
    },
    {
     "data": {
      "text/html": [
       "<pre>| 4       | 0.0976562         | 2.3893                                   |</pre>"
      ],
      "text/plain": [
       "| 4       | 0.0976562         | 2.3893                                   |"
      ]
     },
     "metadata": {},
     "output_type": "display_data"
    },
    {
     "data": {
      "text/html": [
       "<pre>| 5       | 0.0488281         | 2.60523                                  |</pre>"
      ],
      "text/plain": [
       "| 5       | 0.0488281         | 2.60523                                  |"
      ]
     },
     "metadata": {},
     "output_type": "display_data"
    },
    {
     "data": {
      "text/html": [
       "<pre>| 6       | 0.0244141         | 3.03344                                  |</pre>"
      ],
      "text/plain": [
       "| 6       | 0.0244141         | 3.03344                                  |"
      ]
     },
     "metadata": {},
     "output_type": "display_data"
    },
    {
     "data": {
      "text/html": [
       "<pre>| 7       | 0.012207          | 3.55166                                  |</pre>"
      ],
      "text/plain": [
       "| 7       | 0.012207          | 3.55166                                  |"
      ]
     },
     "metadata": {},
     "output_type": "display_data"
    },
    {
     "data": {
      "text/html": [
       "<pre>+---------+-------------------+------------------------------------------+</pre>"
      ],
      "text/plain": [
       "+---------+-------------------+------------------------------------------+"
      ]
     },
     "metadata": {},
     "output_type": "display_data"
    },
    {
     "data": {
      "text/html": [
       "<pre>| Final   | 0.0976562         | 2.3893                                   |</pre>"
      ],
      "text/plain": [
       "| Final   | 0.0976562         | 2.3893                                   |"
      ]
     },
     "metadata": {},
     "output_type": "display_data"
    },
    {
     "data": {
      "text/html": [
       "<pre>+---------+-------------------+------------------------------------------+</pre>"
      ],
      "text/plain": [
       "+---------+-------------------+------------------------------------------+"
      ]
     },
     "metadata": {},
     "output_type": "display_data"
    },
    {
     "data": {
      "text/html": [
       "<pre>Starting Optimization.</pre>"
      ],
      "text/plain": [
       "Starting Optimization."
      ]
     },
     "metadata": {},
     "output_type": "display_data"
    },
    {
     "data": {
      "text/html": [
       "<pre>+---------+--------------+-------------------+-----------------------+-------------+</pre>"
      ],
      "text/plain": [
       "+---------+--------------+-------------------+-----------------------+-------------+"
      ]
     },
     "metadata": {},
     "output_type": "display_data"
    },
    {
     "data": {
      "text/html": [
       "<pre>| Iter.   | Elapsed Time | Approx. Objective | Approx. Training RMSE | Step Size   |</pre>"
      ],
      "text/plain": [
       "| Iter.   | Elapsed Time | Approx. Objective | Approx. Training RMSE | Step Size   |"
      ]
     },
     "metadata": {},
     "output_type": "display_data"
    },
    {
     "data": {
      "text/html": [
       "<pre>+---------+--------------+-------------------+-----------------------+-------------+</pre>"
      ],
      "text/plain": [
       "+---------+--------------+-------------------+-----------------------+-------------+"
      ]
     },
     "metadata": {},
     "output_type": "display_data"
    },
    {
     "data": {
      "text/html": [
       "<pre>| Initial | 92us         | 5.3085            | 2.30358               |             |</pre>"
      ],
      "text/plain": [
       "| Initial | 92us         | 5.3085            | 2.30358               |             |"
      ]
     },
     "metadata": {},
     "output_type": "display_data"
    },
    {
     "data": {
      "text/html": [
       "<pre>+---------+--------------+-------------------+-----------------------+-------------+</pre>"
      ],
      "text/plain": [
       "+---------+--------------+-------------------+-----------------------+-------------+"
      ]
     },
     "metadata": {},
     "output_type": "display_data"
    },
    {
     "data": {
      "text/html": [
       "<pre>| 1       | 98.185ms     | 4.81357           | 2.12028               | 0.0976562   |</pre>"
      ],
      "text/plain": [
       "| 1       | 98.185ms     | 4.81357           | 2.12028               | 0.0976562   |"
      ]
     },
     "metadata": {},
     "output_type": "display_data"
    },
    {
     "data": {
      "text/html": [
       "<pre>| 2       | 205.72ms     | 3.42019           | 1.726                 | 0.0580668   |</pre>"
      ],
      "text/plain": [
       "| 2       | 205.72ms     | 3.42019           | 1.726                 | 0.0580668   |"
      ]
     },
     "metadata": {},
     "output_type": "display_data"
    },
    {
     "data": {
      "text/html": [
       "<pre>| 3       | 307.457ms    | 3.09676           | 1.60395               | 0.042841    |</pre>"
      ],
      "text/plain": [
       "| 3       | 307.457ms    | 3.09676           | 1.60395               | 0.042841    |"
      ]
     },
     "metadata": {},
     "output_type": "display_data"
    },
    {
     "data": {
      "text/html": [
       "<pre>| 4       | 398.566ms    | 2.95914           | 1.54165               | 0.0345267   |</pre>"
      ],
      "text/plain": [
       "| 4       | 398.566ms    | 2.95914           | 1.54165               | 0.0345267   |"
      ]
     },
     "metadata": {},
     "output_type": "display_data"
    },
    {
     "data": {
      "text/html": [
       "<pre>| 5       | 519.098ms    | 2.8845            | 1.502                 | 0.029206    |</pre>"
      ],
      "text/plain": [
       "| 5       | 519.098ms    | 2.8845            | 1.502                 | 0.029206    |"
      ]
     },
     "metadata": {},
     "output_type": "display_data"
    },
    {
     "data": {
      "text/html": [
       "<pre>| 6       | 637.587ms    | 2.80974           | 1.46451               | 0.0254734   |</pre>"
      ],
      "text/plain": [
       "| 6       | 637.587ms    | 2.80974           | 1.46451               | 0.0254734   |"
      ]
     },
     "metadata": {},
     "output_type": "display_data"
    },
    {
     "data": {
      "text/html": [
       "<pre>| 10      | 928.301ms    | 2.34524           | 1.26387               | 0.017366    |</pre>"
      ],
      "text/plain": [
       "| 10      | 928.301ms    | 2.34524           | 1.26387               | 0.017366    |"
      ]
     },
     "metadata": {},
     "output_type": "display_data"
    },
    {
     "data": {
      "text/html": [
       "<pre>| 11      | 1.01s        | 2.22997           | 1.21287               | 0.016168    |</pre>"
      ],
      "text/plain": [
       "| 11      | 1.01s        | 2.22997           | 1.21287               | 0.016168    |"
      ]
     },
     "metadata": {},
     "output_type": "display_data"
    },
    {
     "data": {
      "text/html": [
       "<pre>| 20      | 1.81s        | 1.47661           | 0.827926              | 0.0103259   |</pre>"
      ],
      "text/plain": [
       "| 20      | 1.81s        | 1.47661           | 0.827926              | 0.0103259   |"
      ]
     },
     "metadata": {},
     "output_type": "display_data"
    },
    {
     "data": {
      "text/html": [
       "<pre>+---------+--------------+-------------------+-----------------------+-------------+</pre>"
      ],
      "text/plain": [
       "+---------+--------------+-------------------+-----------------------+-------------+"
      ]
     },
     "metadata": {},
     "output_type": "display_data"
    },
    {
     "data": {
      "text/html": [
       "<pre>Optimization Complete: Maximum number of passes through the data reached.</pre>"
      ],
      "text/plain": [
       "Optimization Complete: Maximum number of passes through the data reached."
      ]
     },
     "metadata": {},
     "output_type": "display_data"
    },
    {
     "data": {
      "text/html": [
       "<pre>Computing final objective value and training RMSE.</pre>"
      ],
      "text/plain": [
       "Computing final objective value and training RMSE."
      ]
     },
     "metadata": {},
     "output_type": "display_data"
    },
    {
     "data": {
      "text/html": [
       "<pre>       Final objective value: 1.23369</pre>"
      ],
      "text/plain": [
       "       Final objective value: 1.23369"
      ]
     },
     "metadata": {},
     "output_type": "display_data"
    },
    {
     "data": {
      "text/html": [
       "<pre>       Final training RMSE: 0.670012</pre>"
      ],
      "text/plain": [
       "       Final training RMSE: 0.670012"
      ]
     },
     "metadata": {},
     "output_type": "display_data"
    }
   ],
   "source": [
    "sf = graphlab.SFrame({'user_id': user_id_list_train,\n",
    "                       'item_id': item_id_list_train,\n",
    "                       'rating': rating_list_train})\n",
    "m1 = graphlab.ranking_factorization_recommender.create(sf, target='rating', \n",
    "                                                       num_factors=100, \n",
    "                                                       linear_regularization=0.0001, \n",
    "                                                       ranking_regularization=0.0001)"
   ]
  },
  {
   "cell_type": "code",
   "execution_count": 106,
   "metadata": {
    "collapsed": false
   },
   "outputs": [
    {
     "name": "stdout",
     "output_type": "stream",
     "text": [
      "LFM\n",
      "MSE: 3.42808830012\n",
      "Spearman: 0.374211013261\n",
      "MAP: 0.00394247603879\n"
     ]
    }
   ],
   "source": [
    "print_metrics(m1, 'LFM')"
   ]
  },
  {
   "cell_type": "markdown",
   "metadata": {},
   "source": [
    "### Latent Factor Model + implicit feedback"
   ]
  },
  {
   "cell_type": "code",
   "execution_count": 130,
   "metadata": {
    "collapsed": false
   },
   "outputs": [
    {
     "data": {
      "text/html": [
       "<pre>Recsys training: model = ranking_factorization_recommender</pre>"
      ],
      "text/plain": [
       "Recsys training: model = ranking_factorization_recommender"
      ]
     },
     "metadata": {},
     "output_type": "display_data"
    },
    {
     "data": {
      "text/html": [
       "<pre>Preparing data set.</pre>"
      ],
      "text/plain": [
       "Preparing data set."
      ]
     },
     "metadata": {},
     "output_type": "display_data"
    },
    {
     "data": {
      "text/html": [
       "<pre>    Data has 14304 observations with 3673 users and 4675 items.</pre>"
      ],
      "text/plain": [
       "    Data has 14304 observations with 3673 users and 4675 items."
      ]
     },
     "metadata": {},
     "output_type": "display_data"
    },
    {
     "data": {
      "text/html": [
       "<pre>    Data prepared in: 0.035707s</pre>"
      ],
      "text/plain": [
       "    Data prepared in: 0.035707s"
      ]
     },
     "metadata": {},
     "output_type": "display_data"
    },
    {
     "data": {
      "text/html": [
       "<pre>Training ranking_factorization_recommender for recommendations.</pre>"
      ],
      "text/plain": [
       "Training ranking_factorization_recommender for recommendations."
      ]
     },
     "metadata": {},
     "output_type": "display_data"
    },
    {
     "data": {
      "text/html": [
       "<pre>+--------------------------------+--------------------------------------------------+----------+</pre>"
      ],
      "text/plain": [
       "+--------------------------------+--------------------------------------------------+----------+"
      ]
     },
     "metadata": {},
     "output_type": "display_data"
    },
    {
     "data": {
      "text/html": [
       "<pre>| Parameter                      | Description                                      | Value    |</pre>"
      ],
      "text/plain": [
       "| Parameter                      | Description                                      | Value    |"
      ]
     },
     "metadata": {},
     "output_type": "display_data"
    },
    {
     "data": {
      "text/html": [
       "<pre>+--------------------------------+--------------------------------------------------+----------+</pre>"
      ],
      "text/plain": [
       "+--------------------------------+--------------------------------------------------+----------+"
      ]
     },
     "metadata": {},
     "output_type": "display_data"
    },
    {
     "data": {
      "text/html": [
       "<pre>| num_factors                    | Factor Dimension                                 | 100      |</pre>"
      ],
      "text/plain": [
       "| num_factors                    | Factor Dimension                                 | 100      |"
      ]
     },
     "metadata": {},
     "output_type": "display_data"
    },
    {
     "data": {
      "text/html": [
       "<pre>| regularization                 | L2 Regularization on Factors                     | 1e-09    |</pre>"
      ],
      "text/plain": [
       "| regularization                 | L2 Regularization on Factors                     | 1e-09    |"
      ]
     },
     "metadata": {},
     "output_type": "display_data"
    },
    {
     "data": {
      "text/html": [
       "<pre>| solver                         | Solver used for training                         | sgd      |</pre>"
      ],
      "text/plain": [
       "| solver                         | Solver used for training                         | sgd      |"
      ]
     },
     "metadata": {},
     "output_type": "display_data"
    },
    {
     "data": {
      "text/html": [
       "<pre>| linear_regularization          | L2 Regularization on Linear Coefficients         | 0.0001   |</pre>"
      ],
      "text/plain": [
       "| linear_regularization          | L2 Regularization on Linear Coefficients         | 0.0001   |"
      ]
     },
     "metadata": {},
     "output_type": "display_data"
    },
    {
     "data": {
      "text/html": [
       "<pre>| ranking_regularization         | Rank-based Regularization Weight                 | 0.0001   |</pre>"
      ],
      "text/plain": [
       "| ranking_regularization         | Rank-based Regularization Weight                 | 0.0001   |"
      ]
     },
     "metadata": {},
     "output_type": "display_data"
    },
    {
     "data": {
      "text/html": [
       "<pre>| max_iterations                 | Maximum Number of Iterations                     | 25       |</pre>"
      ],
      "text/plain": [
       "| max_iterations                 | Maximum Number of Iterations                     | 25       |"
      ]
     },
     "metadata": {},
     "output_type": "display_data"
    },
    {
     "data": {
      "text/html": [
       "<pre>+--------------------------------+--------------------------------------------------+----------+</pre>"
      ],
      "text/plain": [
       "+--------------------------------+--------------------------------------------------+----------+"
      ]
     },
     "metadata": {},
     "output_type": "display_data"
    },
    {
     "data": {
      "text/html": [
       "<pre>  Optimizing model using SGD; tuning step size.</pre>"
      ],
      "text/plain": [
       "  Optimizing model using SGD; tuning step size."
      ]
     },
     "metadata": {},
     "output_type": "display_data"
    },
    {
     "data": {
      "text/html": [
       "<pre>  Using 10000 / 14304 points for tuning the step size.</pre>"
      ],
      "text/plain": [
       "  Using 10000 / 14304 points for tuning the step size."
      ]
     },
     "metadata": {},
     "output_type": "display_data"
    },
    {
     "data": {
      "text/html": [
       "<pre>+---------+-------------------+------------------------------------------+</pre>"
      ],
      "text/plain": [
       "+---------+-------------------+------------------------------------------+"
      ]
     },
     "metadata": {},
     "output_type": "display_data"
    },
    {
     "data": {
      "text/html": [
       "<pre>| Attempt | Initial Step Size | Estimated Objective Value                |</pre>"
      ],
      "text/plain": [
       "| Attempt | Initial Step Size | Estimated Objective Value                |"
      ]
     },
     "metadata": {},
     "output_type": "display_data"
    },
    {
     "data": {
      "text/html": [
       "<pre>+---------+-------------------+------------------------------------------+</pre>"
      ],
      "text/plain": [
       "+---------+-------------------+------------------------------------------+"
      ]
     },
     "metadata": {},
     "output_type": "display_data"
    },
    {
     "data": {
      "text/html": [
       "<pre>| 0       | 25                | Not Viable                               |</pre>"
      ],
      "text/plain": [
       "| 0       | 25                | Not Viable                               |"
      ]
     },
     "metadata": {},
     "output_type": "display_data"
    },
    {
     "data": {
      "text/html": [
       "<pre>| 1       | 6.25              | Not Viable                               |</pre>"
      ],
      "text/plain": [
       "| 1       | 6.25              | Not Viable                               |"
      ]
     },
     "metadata": {},
     "output_type": "display_data"
    },
    {
     "data": {
      "text/html": [
       "<pre>| 2       | 1.5625            | Not Viable                               |</pre>"
      ],
      "text/plain": [
       "| 2       | 1.5625            | Not Viable                               |"
      ]
     },
     "metadata": {},
     "output_type": "display_data"
    },
    {
     "data": {
      "text/html": [
       "<pre>| 3       | 0.390625          | Not Viable                               |</pre>"
      ],
      "text/plain": [
       "| 3       | 0.390625          | Not Viable                               |"
      ]
     },
     "metadata": {},
     "output_type": "display_data"
    },
    {
     "data": {
      "text/html": [
       "<pre>| 4       | 0.0976562         | 2.38844                                  |</pre>"
      ],
      "text/plain": [
       "| 4       | 0.0976562         | 2.38844                                  |"
      ]
     },
     "metadata": {},
     "output_type": "display_data"
    },
    {
     "data": {
      "text/html": [
       "<pre>| 5       | 0.0488281         | 2.6054                                   |</pre>"
      ],
      "text/plain": [
       "| 5       | 0.0488281         | 2.6054                                   |"
      ]
     },
     "metadata": {},
     "output_type": "display_data"
    },
    {
     "data": {
      "text/html": [
       "<pre>| 6       | 0.0244141         | 3.03361                                  |</pre>"
      ],
      "text/plain": [
       "| 6       | 0.0244141         | 3.03361                                  |"
      ]
     },
     "metadata": {},
     "output_type": "display_data"
    },
    {
     "data": {
      "text/html": [
       "<pre>| 7       | 0.012207          | 3.5516                                   |</pre>"
      ],
      "text/plain": [
       "| 7       | 0.012207          | 3.5516                                   |"
      ]
     },
     "metadata": {},
     "output_type": "display_data"
    },
    {
     "data": {
      "text/html": [
       "<pre>+---------+-------------------+------------------------------------------+</pre>"
      ],
      "text/plain": [
       "+---------+-------------------+------------------------------------------+"
      ]
     },
     "metadata": {},
     "output_type": "display_data"
    },
    {
     "data": {
      "text/html": [
       "<pre>| Final   | 0.0976562         | 2.38844                                  |</pre>"
      ],
      "text/plain": [
       "| Final   | 0.0976562         | 2.38844                                  |"
      ]
     },
     "metadata": {},
     "output_type": "display_data"
    },
    {
     "data": {
      "text/html": [
       "<pre>+---------+-------------------+------------------------------------------+</pre>"
      ],
      "text/plain": [
       "+---------+-------------------+------------------------------------------+"
      ]
     },
     "metadata": {},
     "output_type": "display_data"
    },
    {
     "data": {
      "text/html": [
       "<pre>Starting Optimization.</pre>"
      ],
      "text/plain": [
       "Starting Optimization."
      ]
     },
     "metadata": {},
     "output_type": "display_data"
    },
    {
     "data": {
      "text/html": [
       "<pre>+---------+--------------+-------------------+-----------------------+-------------+</pre>"
      ],
      "text/plain": [
       "+---------+--------------+-------------------+-----------------------+-------------+"
      ]
     },
     "metadata": {},
     "output_type": "display_data"
    },
    {
     "data": {
      "text/html": [
       "<pre>| Iter.   | Elapsed Time | Approx. Objective | Approx. Training RMSE | Step Size   |</pre>"
      ],
      "text/plain": [
       "| Iter.   | Elapsed Time | Approx. Objective | Approx. Training RMSE | Step Size   |"
      ]
     },
     "metadata": {},
     "output_type": "display_data"
    },
    {
     "data": {
      "text/html": [
       "<pre>+---------+--------------+-------------------+-----------------------+-------------+</pre>"
      ],
      "text/plain": [
       "+---------+--------------+-------------------+-----------------------+-------------+"
      ]
     },
     "metadata": {},
     "output_type": "display_data"
    },
    {
     "data": {
      "text/html": [
       "<pre>| Initial | 146us        | 5.3085            | 2.30358               |             |</pre>"
      ],
      "text/plain": [
       "| Initial | 146us        | 5.3085            | 2.30358               |             |"
      ]
     },
     "metadata": {},
     "output_type": "display_data"
    },
    {
     "data": {
      "text/html": [
       "<pre>+---------+--------------+-------------------+-----------------------+-------------+</pre>"
      ],
      "text/plain": [
       "+---------+--------------+-------------------+-----------------------+-------------+"
      ]
     },
     "metadata": {},
     "output_type": "display_data"
    },
    {
     "data": {
      "text/html": [
       "<pre>| 1       | 39.206ms     | 4.80911           | 2.11932               | 0.0976562   |</pre>"
      ],
      "text/plain": [
       "| 1       | 39.206ms     | 4.80911           | 2.11932               | 0.0976562   |"
      ]
     },
     "metadata": {},
     "output_type": "display_data"
    },
    {
     "data": {
      "text/html": [
       "<pre>| 2       | 119.388ms    | 3.42195           | 1.72675               | 0.0580668   |</pre>"
      ],
      "text/plain": [
       "| 2       | 119.388ms    | 3.42195           | 1.72675               | 0.0580668   |"
      ]
     },
     "metadata": {},
     "output_type": "display_data"
    },
    {
     "data": {
      "text/html": [
       "<pre>| 3       | 214.821ms    | 3.09602           | 1.60378               | 0.042841    |</pre>"
      ],
      "text/plain": [
       "| 3       | 214.821ms    | 3.09602           | 1.60378               | 0.042841    |"
      ]
     },
     "metadata": {},
     "output_type": "display_data"
    },
    {
     "data": {
      "text/html": [
       "<pre>| 4       | 308.948ms    | 2.95899           | 1.54161               | 0.0345267   |</pre>"
      ],
      "text/plain": [
       "| 4       | 308.948ms    | 2.95899           | 1.54161               | 0.0345267   |"
      ]
     },
     "metadata": {},
     "output_type": "display_data"
    },
    {
     "data": {
      "text/html": [
       "<pre>| 5       | 356.386ms    | 2.88203           | 1.50129               | 0.029206    |</pre>"
      ],
      "text/plain": [
       "| 5       | 356.386ms    | 2.88203           | 1.50129               | 0.029206    |"
      ]
     },
     "metadata": {},
     "output_type": "display_data"
    },
    {
     "data": {
      "text/html": [
       "<pre>| 6       | 424.814ms    | 2.80405           | 1.46263               | 0.0254734   |</pre>"
      ],
      "text/plain": [
       "| 6       | 424.814ms    | 2.80405           | 1.46263               | 0.0254734   |"
      ]
     },
     "metadata": {},
     "output_type": "display_data"
    },
    {
     "data": {
      "text/html": [
       "<pre>| 11      | 733.442ms    | 2.23095           | 1.21342               | 0.016168    |</pre>"
      ],
      "text/plain": [
       "| 11      | 733.442ms    | 2.23095           | 1.21342               | 0.016168    |"
      ]
     },
     "metadata": {},
     "output_type": "display_data"
    },
    {
     "data": {
      "text/html": [
       "<pre>| 25      | 1.77s        | 1.27121           | 0.697513              | 0.00873464  |</pre>"
      ],
      "text/plain": [
       "| 25      | 1.77s        | 1.27121           | 0.697513              | 0.00873464  |"
      ]
     },
     "metadata": {},
     "output_type": "display_data"
    },
    {
     "data": {
      "text/html": [
       "<pre>+---------+--------------+-------------------+-----------------------+-------------+</pre>"
      ],
      "text/plain": [
       "+---------+--------------+-------------------+-----------------------+-------------+"
      ]
     },
     "metadata": {},
     "output_type": "display_data"
    },
    {
     "data": {
      "text/html": [
       "<pre>Optimization Complete: Maximum number of passes through the data reached.</pre>"
      ],
      "text/plain": [
       "Optimization Complete: Maximum number of passes through the data reached."
      ]
     },
     "metadata": {},
     "output_type": "display_data"
    },
    {
     "data": {
      "text/html": [
       "<pre>Computing final objective value and training RMSE.</pre>"
      ],
      "text/plain": [
       "Computing final objective value and training RMSE."
      ]
     },
     "metadata": {},
     "output_type": "display_data"
    },
    {
     "data": {
      "text/html": [
       "<pre>       Final objective value: 1.23435</pre>"
      ],
      "text/plain": [
       "       Final objective value: 1.23435"
      ]
     },
     "metadata": {},
     "output_type": "display_data"
    },
    {
     "data": {
      "text/html": [
       "<pre>       Final training RMSE: 0.670576</pre>"
      ],
      "text/plain": [
       "       Final training RMSE: 0.670576"
      ]
     },
     "metadata": {},
     "output_type": "display_data"
    }
   ],
   "source": [
    "sf = graphlab.SFrame({'user_id': user_id_list_train,\n",
    "                       'item_id': item_id_list_train,\n",
    "                       'rating': rating_list_train})\n",
    "m1 = graphlab.ranking_factorization_recommender.create(sf, target='rating', \n",
    "                                                       num_factors=100, \n",
    "                                                       linear_regularization=0.0001, \n",
    "                                                       ranking_regularization=0.0001,\n",
    "                                                       ials_confidence_scaling_factor = 100,\n",
    "                                                       ials_confidence_scaling_type='linear')"
   ]
  },
  {
   "cell_type": "code",
   "execution_count": 131,
   "metadata": {
    "collapsed": false
   },
   "outputs": [
    {
     "name": "stdout",
     "output_type": "stream",
     "text": [
      "LFM + implicit\n",
      "MSE: 3.40997803225\n",
      "Spearman: 0.420400187465\n",
      "MAP: 0.00342633906025\n"
     ]
    }
   ],
   "source": [
    "print_metrics(m1, 'LFM + implicit')"
   ]
  },
  {
   "cell_type": "markdown",
   "metadata": {},
   "source": [
    "### Most Popular"
   ]
  },
  {
   "cell_type": "code",
   "execution_count": 91,
   "metadata": {
    "collapsed": false
   },
   "outputs": [
    {
     "data": {
      "text/html": [
       "<pre>Recsys training: model = popularity</pre>"
      ],
      "text/plain": [
       "Recsys training: model = popularity"
      ]
     },
     "metadata": {},
     "output_type": "display_data"
    },
    {
     "data": {
      "text/html": [
       "<pre>Preparing data set.</pre>"
      ],
      "text/plain": [
       "Preparing data set."
      ]
     },
     "metadata": {},
     "output_type": "display_data"
    },
    {
     "data": {
      "text/html": [
       "<pre>    Data has 14304 observations with 3673 users and 4675 items.</pre>"
      ],
      "text/plain": [
       "    Data has 14304 observations with 3673 users and 4675 items."
      ]
     },
     "metadata": {},
     "output_type": "display_data"
    },
    {
     "data": {
      "text/html": [
       "<pre>    Data prepared in: 0.034295s</pre>"
      ],
      "text/plain": [
       "    Data prepared in: 0.034295s"
      ]
     },
     "metadata": {},
     "output_type": "display_data"
    },
    {
     "data": {
      "text/html": [
       "<pre>14304 observations to process; with 4675 unique items.</pre>"
      ],
      "text/plain": [
       "14304 observations to process; with 4675 unique items."
      ]
     },
     "metadata": {},
     "output_type": "display_data"
    }
   ],
   "source": [
    "sf = graphlab.SFrame({ 'user_id': user_id_list_train,\n",
    "                       'item_id': item_id_list_train,\n",
    "                       'rating': rating_list_train})\n",
    "\n",
    "m2 = graphlab.recommender.popularity_recommender.create(sf, target='rating')"
   ]
  },
  {
   "cell_type": "code",
   "execution_count": 92,
   "metadata": {
    "collapsed": false
   },
   "outputs": [
    {
     "name": "stdout",
     "output_type": "stream",
     "text": [
      "most popular\n",
      "MSE: 4.05905354705\n",
      "Spearman: 0.360202440608\n",
      "MAP: 0.000806315978757\n"
     ]
    }
   ],
   "source": [
    "print_metrics(m2, 'most popular')"
   ]
  },
  {
   "cell_type": "markdown",
   "metadata": {},
   "source": [
    "### Item-based"
   ]
  },
  {
   "cell_type": "code",
   "execution_count": 311,
   "metadata": {
    "collapsed": false
   },
   "outputs": [
    {
     "data": {
      "text/html": [
       "<pre>Recsys training: model = item_similarity</pre>"
      ],
      "text/plain": [
       "Recsys training: model = item_similarity"
      ]
     },
     "metadata": {},
     "output_type": "display_data"
    },
    {
     "data": {
      "text/html": [
       "<pre>Preparing data set.</pre>"
      ],
      "text/plain": [
       "Preparing data set."
      ]
     },
     "metadata": {},
     "output_type": "display_data"
    },
    {
     "data": {
      "text/html": [
       "<pre>    Data has 14304 observations with 3673 users and 4675 items.</pre>"
      ],
      "text/plain": [
       "    Data has 14304 observations with 3673 users and 4675 items."
      ]
     },
     "metadata": {},
     "output_type": "display_data"
    },
    {
     "data": {
      "text/html": [
       "<pre>    Data prepared in: 0.035849s</pre>"
      ],
      "text/plain": [
       "    Data prepared in: 0.035849s"
      ]
     },
     "metadata": {},
     "output_type": "display_data"
    },
    {
     "data": {
      "text/html": [
       "<pre>Training model from provided data.</pre>"
      ],
      "text/plain": [
       "Training model from provided data."
      ]
     },
     "metadata": {},
     "output_type": "display_data"
    },
    {
     "data": {
      "text/html": [
       "<pre>Gathering per-item and per-user statistics.</pre>"
      ],
      "text/plain": [
       "Gathering per-item and per-user statistics."
      ]
     },
     "metadata": {},
     "output_type": "display_data"
    },
    {
     "data": {
      "text/html": [
       "<pre>+--------------------------------+------------+</pre>"
      ],
      "text/plain": [
       "+--------------------------------+------------+"
      ]
     },
     "metadata": {},
     "output_type": "display_data"
    },
    {
     "data": {
      "text/html": [
       "<pre>| Elapsed Time (Item Statistics) | % Complete |</pre>"
      ],
      "text/plain": [
       "| Elapsed Time (Item Statistics) | % Complete |"
      ]
     },
     "metadata": {},
     "output_type": "display_data"
    },
    {
     "data": {
      "text/html": [
       "<pre>+--------------------------------+------------+</pre>"
      ],
      "text/plain": [
       "+--------------------------------+------------+"
      ]
     },
     "metadata": {},
     "output_type": "display_data"
    },
    {
     "data": {
      "text/html": [
       "<pre>| 1.266ms                        | 27         |</pre>"
      ],
      "text/plain": [
       "| 1.266ms                        | 27         |"
      ]
     },
     "metadata": {},
     "output_type": "display_data"
    },
    {
     "data": {
      "text/html": [
       "<pre>| 5.454ms                        | 100        |</pre>"
      ],
      "text/plain": [
       "| 5.454ms                        | 100        |"
      ]
     },
     "metadata": {},
     "output_type": "display_data"
    },
    {
     "data": {
      "text/html": [
       "<pre>+--------------------------------+------------+</pre>"
      ],
      "text/plain": [
       "+--------------------------------+------------+"
      ]
     },
     "metadata": {},
     "output_type": "display_data"
    },
    {
     "data": {
      "text/html": [
       "<pre>Setting up lookup tables.</pre>"
      ],
      "text/plain": [
       "Setting up lookup tables."
      ]
     },
     "metadata": {},
     "output_type": "display_data"
    },
    {
     "data": {
      "text/html": [
       "<pre>Processing data in one pass using dense lookup tables.</pre>"
      ],
      "text/plain": [
       "Processing data in one pass using dense lookup tables."
      ]
     },
     "metadata": {},
     "output_type": "display_data"
    },
    {
     "data": {
      "text/html": [
       "<pre>+-------------------------------------+------------------+-----------------+</pre>"
      ],
      "text/plain": [
       "+-------------------------------------+------------------+-----------------+"
      ]
     },
     "metadata": {},
     "output_type": "display_data"
    },
    {
     "data": {
      "text/html": [
       "<pre>| Elapsed Time (Constructing Lookups) | Total % Complete | Items Processed |</pre>"
      ],
      "text/plain": [
       "| Elapsed Time (Constructing Lookups) | Total % Complete | Items Processed |"
      ]
     },
     "metadata": {},
     "output_type": "display_data"
    },
    {
     "data": {
      "text/html": [
       "<pre>+-------------------------------------+------------------+-----------------+</pre>"
      ],
      "text/plain": [
       "+-------------------------------------+------------------+-----------------+"
      ]
     },
     "metadata": {},
     "output_type": "display_data"
    },
    {
     "data": {
      "text/html": [
       "<pre>| 62.171ms                            | 0                | 0               |</pre>"
      ],
      "text/plain": [
       "| 62.171ms                            | 0                | 0               |"
      ]
     },
     "metadata": {},
     "output_type": "display_data"
    },
    {
     "data": {
      "text/html": [
       "<pre>| 263.631ms                           | 100              | 4675            |</pre>"
      ],
      "text/plain": [
       "| 263.631ms                           | 100              | 4675            |"
      ]
     },
     "metadata": {},
     "output_type": "display_data"
    },
    {
     "data": {
      "text/html": [
       "<pre>+-------------------------------------+------------------+-----------------+</pre>"
      ],
      "text/plain": [
       "+-------------------------------------+------------------+-----------------+"
      ]
     },
     "metadata": {},
     "output_type": "display_data"
    },
    {
     "data": {
      "text/html": [
       "<pre>Finalizing lookup tables.</pre>"
      ],
      "text/plain": [
       "Finalizing lookup tables."
      ]
     },
     "metadata": {},
     "output_type": "display_data"
    },
    {
     "data": {
      "text/html": [
       "<pre>Generating candidate set for working with new users.</pre>"
      ],
      "text/plain": [
       "Generating candidate set for working with new users."
      ]
     },
     "metadata": {},
     "output_type": "display_data"
    },
    {
     "data": {
      "text/html": [
       "<pre>Finished training in 0.282499s</pre>"
      ],
      "text/plain": [
       "Finished training in 0.282499s"
      ]
     },
     "metadata": {},
     "output_type": "display_data"
    }
   ],
   "source": [
    "sf = graphlab.SFrame({ 'user_id': user_id_list_train,\n",
    "                       'item_id': item_id_list_train,\n",
    "                       'rating': rating_list_train})\n",
    "\n",
    "model = graphlab.item_similarity_recommender.create(sf, target=\"rating\",\n",
    "                                                 similarity_type='pearson')"
   ]
  },
  {
   "cell_type": "code",
   "execution_count": 312,
   "metadata": {
    "collapsed": false
   },
   "outputs": [
    {
     "name": "stdout",
     "output_type": "stream",
     "text": [
      "cos model\n",
      "MSE: 4.05668279347\n",
      "Spearman: 0.363025349205\n",
      "MAP: 0.0007979031982\n"
     ]
    },
    {
     "data": {
      "text/plain": [
       "(4.05668279346843, 0.36302534920531598, 0.00079790319820004826)"
      ]
     },
     "execution_count": 312,
     "metadata": {},
     "output_type": "execute_result"
    }
   ],
   "source": [
    "print_metrics(model, 'cos model')"
   ]
  },
  {
   "cell_type": "markdown",
   "metadata": {},
   "source": [
    "### Дополнительные фичи"
   ]
  },
  {
   "cell_type": "markdown",
   "metadata": {},
   "source": [
    "средняя оценка пользователя, средняя длина отзыва этого пользователя -- средняя оценка по фильму, средняя длина отзыва об этом фильме"
   ]
  },
  {
   "cell_type": "code",
   "execution_count": 52,
   "metadata": {
    "collapsed": false
   },
   "outputs": [
    {
     "data": {
      "text/html": [
       "<pre>Recsys training: model = ranking_factorization_recommender</pre>"
      ],
      "text/plain": [
       "Recsys training: model = ranking_factorization_recommender"
      ]
     },
     "metadata": {},
     "output_type": "display_data"
    },
    {
     "data": {
      "text/html": [
       "<pre>Preparing data set.</pre>"
      ],
      "text/plain": [
       "Preparing data set."
      ]
     },
     "metadata": {},
     "output_type": "display_data"
    },
    {
     "data": {
      "text/html": [
       "<pre>    Data has 14304 observations with 3673 users and 4675 items.</pre>"
      ],
      "text/plain": [
       "    Data has 14304 observations with 3673 users and 4675 items."
      ]
     },
     "metadata": {},
     "output_type": "display_data"
    },
    {
     "data": {
      "text/html": [
       "<pre>    Data prepared in: 0.06016s</pre>"
      ],
      "text/plain": [
       "    Data prepared in: 0.06016s"
      ]
     },
     "metadata": {},
     "output_type": "display_data"
    },
    {
     "data": {
      "text/html": [
       "<pre>Training ranking_factorization_recommender for recommendations.</pre>"
      ],
      "text/plain": [
       "Training ranking_factorization_recommender for recommendations."
      ]
     },
     "metadata": {},
     "output_type": "display_data"
    },
    {
     "data": {
      "text/html": [
       "<pre>+--------------------------------+--------------------------------------------------+----------+</pre>"
      ],
      "text/plain": [
       "+--------------------------------+--------------------------------------------------+----------+"
      ]
     },
     "metadata": {},
     "output_type": "display_data"
    },
    {
     "data": {
      "text/html": [
       "<pre>| Parameter                      | Description                                      | Value    |</pre>"
      ],
      "text/plain": [
       "| Parameter                      | Description                                      | Value    |"
      ]
     },
     "metadata": {},
     "output_type": "display_data"
    },
    {
     "data": {
      "text/html": [
       "<pre>+--------------------------------+--------------------------------------------------+----------+</pre>"
      ],
      "text/plain": [
       "+--------------------------------+--------------------------------------------------+----------+"
      ]
     },
     "metadata": {},
     "output_type": "display_data"
    },
    {
     "data": {
      "text/html": [
       "<pre>| num_factors                    | Factor Dimension                                 | 150      |</pre>"
      ],
      "text/plain": [
       "| num_factors                    | Factor Dimension                                 | 150      |"
      ]
     },
     "metadata": {},
     "output_type": "display_data"
    },
    {
     "data": {
      "text/html": [
       "<pre>| regularization                 | L2 Regularization on Factors                     | 1e-09    |</pre>"
      ],
      "text/plain": [
       "| regularization                 | L2 Regularization on Factors                     | 1e-09    |"
      ]
     },
     "metadata": {},
     "output_type": "display_data"
    },
    {
     "data": {
      "text/html": [
       "<pre>| solver                         | Solver used for training                         | adagrad  |</pre>"
      ],
      "text/plain": [
       "| solver                         | Solver used for training                         | adagrad  |"
      ]
     },
     "metadata": {},
     "output_type": "display_data"
    },
    {
     "data": {
      "text/html": [
       "<pre>| linear_regularization          | L2 Regularization on Linear Coefficients         | 0.0001   |</pre>"
      ],
      "text/plain": [
       "| linear_regularization          | L2 Regularization on Linear Coefficients         | 0.0001   |"
      ]
     },
     "metadata": {},
     "output_type": "display_data"
    },
    {
     "data": {
      "text/html": [
       "<pre>| ranking_regularization         | Rank-based Regularization Weight                 | 0.0001   |</pre>"
      ],
      "text/plain": [
       "| ranking_regularization         | Rank-based Regularization Weight                 | 0.0001   |"
      ]
     },
     "metadata": {},
     "output_type": "display_data"
    },
    {
     "data": {
      "text/html": [
       "<pre>| side_data_factorization        | Assign Factors for Side Data                     | True     |</pre>"
      ],
      "text/plain": [
       "| side_data_factorization        | Assign Factors for Side Data                     | True     |"
      ]
     },
     "metadata": {},
     "output_type": "display_data"
    },
    {
     "data": {
      "text/html": [
       "<pre>| max_iterations                 | Maximum Number of Iterations                     | 25       |</pre>"
      ],
      "text/plain": [
       "| max_iterations                 | Maximum Number of Iterations                     | 25       |"
      ]
     },
     "metadata": {},
     "output_type": "display_data"
    },
    {
     "data": {
      "text/html": [
       "<pre>+--------------------------------+--------------------------------------------------+----------+</pre>"
      ],
      "text/plain": [
       "+--------------------------------+--------------------------------------------------+----------+"
      ]
     },
     "metadata": {},
     "output_type": "display_data"
    },
    {
     "data": {
      "text/html": [
       "<pre>  Optimizing model using SGD; tuning step size.</pre>"
      ],
      "text/plain": [
       "  Optimizing model using SGD; tuning step size."
      ]
     },
     "metadata": {},
     "output_type": "display_data"
    },
    {
     "data": {
      "text/html": [
       "<pre>  Using 10000 / 14304 points for tuning the step size.</pre>"
      ],
      "text/plain": [
       "  Using 10000 / 14304 points for tuning the step size."
      ]
     },
     "metadata": {},
     "output_type": "display_data"
    },
    {
     "data": {
      "text/html": [
       "<pre>+---------+-------------------+------------------------------------------+</pre>"
      ],
      "text/plain": [
       "+---------+-------------------+------------------------------------------+"
      ]
     },
     "metadata": {},
     "output_type": "display_data"
    },
    {
     "data": {
      "text/html": [
       "<pre>| Attempt | Initial Step Size | Estimated Objective Value                |</pre>"
      ],
      "text/plain": [
       "| Attempt | Initial Step Size | Estimated Objective Value                |"
      ]
     },
     "metadata": {},
     "output_type": "display_data"
    },
    {
     "data": {
      "text/html": [
       "<pre>+---------+-------------------+------------------------------------------+</pre>"
      ],
      "text/plain": [
       "+---------+-------------------+------------------------------------------+"
      ]
     },
     "metadata": {},
     "output_type": "display_data"
    },
    {
     "data": {
      "text/html": [
       "<pre>| 0       | 12.5              | Not Viable                               |</pre>"
      ],
      "text/plain": [
       "| 0       | 12.5              | Not Viable                               |"
      ]
     },
     "metadata": {},
     "output_type": "display_data"
    },
    {
     "data": {
      "text/html": [
       "<pre>| 1       | 3.125             | Not Viable                               |</pre>"
      ],
      "text/plain": [
       "| 1       | 3.125             | Not Viable                               |"
      ]
     },
     "metadata": {},
     "output_type": "display_data"
    },
    {
     "data": {
      "text/html": [
       "<pre>| 2       | 0.78125           | Not Viable                               |</pre>"
      ],
      "text/plain": [
       "| 2       | 0.78125           | Not Viable                               |"
      ]
     },
     "metadata": {},
     "output_type": "display_data"
    },
    {
     "data": {
      "text/html": [
       "<pre>| 3       | 0.195312          | Not Viable                               |</pre>"
      ],
      "text/plain": [
       "| 3       | 0.195312          | Not Viable                               |"
      ]
     },
     "metadata": {},
     "output_type": "display_data"
    },
    {
     "data": {
      "text/html": [
       "<pre>| 4       | 0.0488281         | Not Viable                               |</pre>"
      ],
      "text/plain": [
       "| 4       | 0.0488281         | Not Viable                               |"
      ]
     },
     "metadata": {},
     "output_type": "display_data"
    },
    {
     "data": {
      "text/html": [
       "<pre>| 5       | 0.012207          | No Decrease (11.094 >= 5.28369)          |</pre>"
      ],
      "text/plain": [
       "| 5       | 0.012207          | No Decrease (11.094 >= 5.28369)          |"
      ]
     },
     "metadata": {},
     "output_type": "display_data"
    },
    {
     "data": {
      "text/html": [
       "<pre>| 6       | 0.00305176        | 3.43447                                  |</pre>"
      ],
      "text/plain": [
       "| 6       | 0.00305176        | 3.43447                                  |"
      ]
     },
     "metadata": {},
     "output_type": "display_data"
    },
    {
     "data": {
      "text/html": [
       "<pre>| 7       | 0.00152588        | 4.22987                                  |</pre>"
      ],
      "text/plain": [
       "| 7       | 0.00152588        | 4.22987                                  |"
      ]
     },
     "metadata": {},
     "output_type": "display_data"
    },
    {
     "data": {
      "text/html": [
       "<pre>| 8       | 0.000762939       | 4.71374                                  |</pre>"
      ],
      "text/plain": [
       "| 8       | 0.000762939       | 4.71374                                  |"
      ]
     },
     "metadata": {},
     "output_type": "display_data"
    },
    {
     "data": {
      "text/html": [
       "<pre>| 9       | 0.00038147        | 5.00327                                  |</pre>"
      ],
      "text/plain": [
       "| 9       | 0.00038147        | 5.00327                                  |"
      ]
     },
     "metadata": {},
     "output_type": "display_data"
    },
    {
     "data": {
      "text/html": [
       "<pre>+---------+-------------------+------------------------------------------+</pre>"
      ],
      "text/plain": [
       "+---------+-------------------+------------------------------------------+"
      ]
     },
     "metadata": {},
     "output_type": "display_data"
    },
    {
     "data": {
      "text/html": [
       "<pre>| Final   | 0.00305176        | 3.43447                                  |</pre>"
      ],
      "text/plain": [
       "| Final   | 0.00305176        | 3.43447                                  |"
      ]
     },
     "metadata": {},
     "output_type": "display_data"
    },
    {
     "data": {
      "text/html": [
       "<pre>+---------+-------------------+------------------------------------------+</pre>"
      ],
      "text/plain": [
       "+---------+-------------------+------------------------------------------+"
      ]
     },
     "metadata": {},
     "output_type": "display_data"
    },
    {
     "data": {
      "text/html": [
       "<pre>Starting Optimization.</pre>"
      ],
      "text/plain": [
       "Starting Optimization."
      ]
     },
     "metadata": {},
     "output_type": "display_data"
    },
    {
     "data": {
      "text/html": [
       "<pre>+---------+--------------+-------------------+-----------------------+-------------+</pre>"
      ],
      "text/plain": [
       "+---------+--------------+-------------------+-----------------------+-------------+"
      ]
     },
     "metadata": {},
     "output_type": "display_data"
    },
    {
     "data": {
      "text/html": [
       "<pre>| Iter.   | Elapsed Time | Approx. Objective | Approx. Training RMSE | Step Size   |</pre>"
      ],
      "text/plain": [
       "| Iter.   | Elapsed Time | Approx. Objective | Approx. Training RMSE | Step Size   |"
      ]
     },
     "metadata": {},
     "output_type": "display_data"
    },
    {
     "data": {
      "text/html": [
       "<pre>+---------+--------------+-------------------+-----------------------+-------------+</pre>"
      ],
      "text/plain": [
       "+---------+--------------+-------------------+-----------------------+-------------+"
      ]
     },
     "metadata": {},
     "output_type": "display_data"
    },
    {
     "data": {
      "text/html": [
       "<pre>| Initial | 120us        | 5.30747           | 2.30335               |             |</pre>"
      ],
      "text/plain": [
       "| Initial | 120us        | 5.30747           | 2.30335               |             |"
      ]
     },
     "metadata": {},
     "output_type": "display_data"
    },
    {
     "data": {
      "text/html": [
       "<pre>+---------+--------------+-------------------+-----------------------+-------------+</pre>"
      ],
      "text/plain": [
       "+---------+--------------+-------------------+-----------------------+-------------+"
      ]
     },
     "metadata": {},
     "output_type": "display_data"
    },
    {
     "data": {
      "text/html": [
       "<pre>| 1       | 151.627ms    | 4.64146           | 2.15388               | 0.00305176  |</pre>"
      ],
      "text/plain": [
       "| 1       | 151.627ms    | 4.64146           | 2.15388               | 0.00305176  |"
      ]
     },
     "metadata": {},
     "output_type": "display_data"
    },
    {
     "data": {
      "text/html": [
       "<pre>| 2       | 287.372ms    | 4.08074           | 2.01948               | 0.00305176  |</pre>"
      ],
      "text/plain": [
       "| 2       | 287.372ms    | 4.08074           | 2.01948               | 0.00305176  |"
      ]
     },
     "metadata": {},
     "output_type": "display_data"
    },
    {
     "data": {
      "text/html": [
       "<pre>| 3       | 419.222ms    | 3.87176           | 1.96703               | 0.00305176  |</pre>"
      ],
      "text/plain": [
       "| 3       | 419.222ms    | 3.87176           | 1.96703               | 0.00305176  |"
      ]
     },
     "metadata": {},
     "output_type": "display_data"
    },
    {
     "data": {
      "text/html": [
       "<pre>| 4       | 564.228ms    | 3.84535           | 1.96027               | 0.00305176  |</pre>"
      ],
      "text/plain": [
       "| 4       | 564.228ms    | 3.84535           | 1.96027               | 0.00305176  |"
      ]
     },
     "metadata": {},
     "output_type": "display_data"
    },
    {
     "data": {
      "text/html": [
       "<pre>| 5       | 701.32ms     | 3.86692           | 1.96574               | 0.00305176  |</pre>"
      ],
      "text/plain": [
       "| 5       | 701.32ms     | 3.86692           | 1.96574               | 0.00305176  |"
      ]
     },
     "metadata": {},
     "output_type": "display_data"
    },
    {
     "data": {
      "text/html": [
       "<pre>| 6       | 826.137ms    | 3.76717           | 1.94017               | 0.00305176  |</pre>"
      ],
      "text/plain": [
       "| 6       | 826.137ms    | 3.76717           | 1.94017               | 0.00305176  |"
      ]
     },
     "metadata": {},
     "output_type": "display_data"
    },
    {
     "data": {
      "text/html": [
       "<pre>| 10      | 1.39s        | 2.92413           | 1.70906               | 0.00305176  |</pre>"
      ],
      "text/plain": [
       "| 10      | 1.39s        | 2.92413           | 1.70906               | 0.00305176  |"
      ]
     },
     "metadata": {},
     "output_type": "display_data"
    },
    {
     "data": {
      "text/html": [
       "<pre>| 11      | 1.51s        | 2.77477           | 1.66476               | 0.00305176  |</pre>"
      ],
      "text/plain": [
       "| 11      | 1.51s        | 2.77477           | 1.66476               | 0.00305176  |"
      ]
     },
     "metadata": {},
     "output_type": "display_data"
    },
    {
     "data": {
      "text/html": [
       "<pre>| 20      | 2.50s        | 2.57174           | 1.60248               | 0.00305176  |</pre>"
      ],
      "text/plain": [
       "| 20      | 2.50s        | 2.57174           | 1.60248               | 0.00305176  |"
      ]
     },
     "metadata": {},
     "output_type": "display_data"
    },
    {
     "data": {
      "text/html": [
       "<pre>+---------+--------------+-------------------+-----------------------+-------------+</pre>"
      ],
      "text/plain": [
       "+---------+--------------+-------------------+-----------------------+-------------+"
      ]
     },
     "metadata": {},
     "output_type": "display_data"
    },
    {
     "data": {
      "text/html": [
       "<pre>Optimization Complete: Maximum number of passes through the data reached.</pre>"
      ],
      "text/plain": [
       "Optimization Complete: Maximum number of passes through the data reached."
      ]
     },
     "metadata": {},
     "output_type": "display_data"
    },
    {
     "data": {
      "text/html": [
       "<pre>Computing final objective value and training RMSE.</pre>"
      ],
      "text/plain": [
       "Computing final objective value and training RMSE."
      ]
     },
     "metadata": {},
     "output_type": "display_data"
    },
    {
     "data": {
      "text/html": [
       "<pre>       Final objective value: 3.57715</pre>"
      ],
      "text/plain": [
       "       Final objective value: 3.57715"
      ]
     },
     "metadata": {},
     "output_type": "display_data"
    },
    {
     "data": {
      "text/html": [
       "<pre>       Final training RMSE: 1.89023</pre>"
      ],
      "text/plain": [
       "       Final training RMSE: 1.89023"
      ]
     },
     "metadata": {},
     "output_type": "display_data"
    }
   ],
   "source": [
    "sf = graphlab.SFrame({ 'user_id': user_id_list_train,\n",
    "                       'item_id': item_id_list_train,\n",
    "                       'rating': rating_list_train})\n",
    "\n",
    "user_info = graphlab.SFrame({ 'user_id': all_user_id_train,\n",
    "                              'tomita_dic':tomita_dic})\n",
    "\n",
    "item_info = graphlab.SFrame({'item_id': all_film_id_train,\n",
    "                              'avg_film_score_list': avg_film_score_list})\n",
    "\n",
    "model_f2_f6 = graphlab.ranking_factorization_recommender.create(sf, num_factors=150, \n",
    "                                               target='rating',\n",
    "                                               user_data=user_info,\n",
    "                                               item_data=item_info, \n",
    "                                               linear_regularization=0.0001,\n",
    "                                               ranking_regularization=0.0001)"
   ]
  },
  {
   "cell_type": "code",
   "execution_count": 504,
   "metadata": {
    "collapsed": false
   },
   "outputs": [
    {
     "name": "stdout",
     "output_type": "stream",
     "text": [
      "FM: f1 + f2\n",
      "MSE: 3.47139492354\n",
      "Spearman: 0.378060459738\n",
      "MAP: 0.00348425980214\n"
     ]
    }
   ],
   "source": [
    "print_metrics(m4, \"FM: f1 + f2\")"
   ]
  },
  {
   "cell_type": "code",
   "execution_count": 502,
   "metadata": {
    "collapsed": false
   },
   "outputs": [
    {
     "name": "stdout",
     "output_type": "stream",
     "text": [
      "FM: f1 + f2\n",
      "MSE: 3.43930488796\n",
      "Spearman: 0.421442374839\n",
      "MAP: 0.00332006174286\n"
     ]
    }
   ],
   "source": [
    "print_metrics(m4, \"FM: f1 + f2 + implicit\")"
   ]
  },
  {
   "cell_type": "code",
   "execution_count": 238,
   "metadata": {
    "collapsed": false
   },
   "outputs": [
    {
     "name": "stdout",
     "output_type": "stream",
     "text": [
      "FM: f1 + f2 + f5\n",
      "MSE: 4.4779051856\n",
      "Spearman: 0.00640136036089\n",
      "MAP: 0.000920439860728\n"
     ]
    }
   ],
   "source": [
    "print_metrics(m4, 'FM: f1 + f2 + f5')"
   ]
  },
  {
   "cell_type": "code",
   "execution_count": 240,
   "metadata": {
    "collapsed": false
   },
   "outputs": [
    {
     "name": "stdout",
     "output_type": "stream",
     "text": [
      "FM: f5\n",
      "MSE: 4.58118757217\n",
      "Spearman: 0.2339765287\n",
      "MAP: 0.00197088116938\n"
     ]
    }
   ],
   "source": [
    "print_metrics(m4, 'FM: f5')"
   ]
  },
  {
   "cell_type": "code",
   "execution_count": 33,
   "metadata": {
    "collapsed": false
   },
   "outputs": [
    {
     "name": "stdout",
     "output_type": "stream",
     "text": [
      "FM: f6\n",
      "MSE: 5.4146844512\n",
      "Spearman: 0.00837842885238\n",
      "MAP: 0.00156554559825\n"
     ]
    }
   ],
   "source": [
    "print_metrics(m4, 'FM: f5')"
   ]
  },
  {
   "cell_type": "code",
   "execution_count": 365,
   "metadata": {
    "collapsed": false
   },
   "outputs": [
    {
     "name": "stdout",
     "output_type": "stream",
     "text": [
      "FM: f5 + f6\n",
      "MSE: 4.01182655808\n",
      "Spearman: 0.181831266313\n",
      "MAP: 0.00138985484722\n"
     ]
    }
   ],
   "source": [
    "print_metrics(m4, 'FM: f5 + f6')"
   ]
  },
  {
   "cell_type": "code",
   "execution_count": 368,
   "metadata": {
    "collapsed": false
   },
   "outputs": [
    {
     "name": "stdout",
     "output_type": "stream",
     "text": [
      "FM: f1 + f2 + f5 + f6\n",
      "MSE: 11.3771853103\n",
      "Spearman: -0.0193952694649\n",
      "MAP: 0.000676504009648\n"
     ]
    }
   ],
   "source": [
    "print_metrics(m4, 'FM: f1 + f2 + f5 + f6')"
   ]
  },
  {
   "cell_type": "code",
   "execution_count": 370,
   "metadata": {
    "collapsed": false
   },
   "outputs": [
    {
     "name": "stdout",
     "output_type": "stream",
     "text": [
      "FM: f1 + f6\n",
      "MSE: 4.22737299536\n",
      "Spearman: 0.206670915633\n",
      "MAP: 0.00188084841244\n"
     ]
    }
   ],
   "source": [
    "print_metrics(m4, 'FM: f1 + f6')"
   ]
  },
  {
   "cell_type": "code",
   "execution_count": 519,
   "metadata": {
    "collapsed": false
   },
   "outputs": [
    {
     "name": "stdout",
     "output_type": "stream",
     "text": [
      "FM: f1 + f2 + f7\n",
      "MSE: 4.83851759742\n",
      "Spearman: 0.230951028372\n",
      "MAP: 0.00128956539023\n"
     ]
    }
   ],
   "source": [
    "print_metrics(m4, 'FM: f1 + f2 + f7')"
   ]
  },
  {
   "cell_type": "code",
   "execution_count": 36,
   "metadata": {
    "collapsed": false
   },
   "outputs": [
    {
     "name": "stdout",
     "output_type": "stream",
     "text": [
      "FM: f1 + f2 + f5\n",
      "MSE: 4.52543638995\n",
      "Spearman: 0.021457100992\n",
      "MAP: 0.000888197534897\n"
     ]
    }
   ],
   "source": [
    "print_metrics(m4, 'FM: f1 + f2 + f5')"
   ]
  },
  {
   "cell_type": "code",
   "execution_count": 92,
   "metadata": {
    "collapsed": false
   },
   "outputs": [
    {
     "name": "stdout",
     "output_type": "stream",
     "text": [
      "FM: f1 + f2 + f7\n",
      "MSE: 3.64885915238\n",
      "Spearman: 0.349695358021\n",
      "MAP: 0.00176216498326\n"
     ]
    }
   ],
   "source": [
    "print_metrics(m4, 'FM: f1 + f2 + f7')"
   ]
  },
  {
   "cell_type": "code",
   "execution_count": 109,
   "metadata": {
    "collapsed": false
   },
   "outputs": [
    {
     "name": "stdout",
     "output_type": "stream",
     "text": [
      "FM: f1 + f2 + f8\n",
      "MSE: 4.38681066302\n",
      "Spearman: 0.0861404836018\n",
      "MAP: 0.00107660671052\n"
     ]
    }
   ],
   "source": [
    "print_metrics(m4, 'FM: f1 + f2 + f8')"
   ]
  },
  {
   "cell_type": "code",
   "execution_count": 111,
   "metadata": {
    "collapsed": false
   },
   "outputs": [
    {
     "name": "stdout",
     "output_type": "stream",
     "text": [
      "FM: f8\n",
      "MSE: 6.38055782474\n",
      "Spearman: 0.0372681135133\n",
      "MAP: 0.00104091405678\n"
     ]
    }
   ],
   "source": [
    "print_metrics(m4, 'FM: f8')"
   ]
  },
  {
   "cell_type": "code",
   "execution_count": 123,
   "metadata": {
    "collapsed": false
   },
   "outputs": [
    {
     "name": "stdout",
     "output_type": "stream",
     "text": [
      "FM: f9\n",
      "MSE: 3.8108740182\n",
      "Spearman: 0.138681716988\n",
      "MAP: 0.00378881156487\n"
     ]
    }
   ],
   "source": [
    "print_metrics(m4, 'FM: f9') #MAP: 0.00378881156487 при только f9 и num_factors=150"
   ]
  },
  {
   "cell_type": "code",
   "execution_count": 133,
   "metadata": {
    "collapsed": false
   },
   "outputs": [
    {
     "name": "stdout",
     "output_type": "stream",
     "text": [
      "FM: f10\n",
      "MSE: 5.01897340597\n",
      "Spearman: 0.277056665598\n",
      "MAP: 0.000665904796529\n"
     ]
    }
   ],
   "source": [
    "print_metrics(m4, 'FM: f10')"
   ]
  },
  {
   "cell_type": "code",
   "execution_count": 131,
   "metadata": {
    "collapsed": false
   },
   "outputs": [
    {
     "name": "stdout",
     "output_type": "stream",
     "text": [
      "FM: f9 + 10\n",
      "MSE: 4.26071888566\n",
      "Spearman: 0.114757217522\n",
      "MAP: 0.000503996060418\n"
     ]
    }
   ],
   "source": [
    "print_metrics(m4, 'FM: f9 + f10')"
   ]
  },
  {
   "cell_type": "code",
   "execution_count": 136,
   "metadata": {
    "collapsed": false
   },
   "outputs": [
    {
     "name": "stdout",
     "output_type": "stream",
     "text": [
      "FM: f1 + f2 + f9 + f10\n",
      "MSE: 3.90633399485\n",
      "Spearman: 0.255866209051\n",
      "MAP: 0.000702769630751\n"
     ]
    }
   ],
   "source": [
    "print_metrics(m4, 'FM: f1 + f2 + f9 + f10')"
   ]
  },
  {
   "cell_type": "code",
   "execution_count": 140,
   "metadata": {
    "collapsed": false
   },
   "outputs": [
    {
     "name": "stdout",
     "output_type": "stream",
     "text": [
      "FM: f11\n",
      "MSE: 3.50780044494\n",
      "Spearman: 0.290736556305\n",
      "MAP: 0.00586620594892\n"
     ]
    }
   ],
   "source": [
    "print_metrics(m4, 'FM: f11')"
   ]
  },
  {
   "cell_type": "code",
   "execution_count": 51,
   "metadata": {
    "collapsed": false
   },
   "outputs": [
    {
     "name": "stdout",
     "output_type": "stream",
     "text": [
      "FM: f2 + f6\n",
      "MSE: 3.41728485201\n",
      "Spearman: 0.439249617231\n",
      "MAP: 0.000967072767714\n"
     ]
    },
    {
     "data": {
      "text/plain": [
       "(3.4172848520059822, 0.43924961723100403, 0.00096707276771442418)"
      ]
     },
     "execution_count": 51,
     "metadata": {},
     "output_type": "execute_result"
    }
   ],
   "source": [
    "print_metrics(m4, \"FM: f2 + f6\")"
   ]
  },
  {
   "cell_type": "markdown",
   "metadata": {},
   "source": [
    "### Итоговая модели FM f2 + f6"
   ]
  },
  {
   "cell_type": "code",
   "execution_count": 53,
   "metadata": {
    "collapsed": false
   },
   "outputs": [
    {
     "name": "stdout",
     "output_type": "stream",
     "text": [
      "FM: f2 + f6\n",
      "MSE: 4.78362017632\n",
      "Spearman: 0.304981927763\n",
      "MAP: 0.00560577763377\n"
     ]
    },
    {
     "data": {
      "text/plain": [
       "(4.7836201763205333, 0.30498192776288507, 0.0056057776337726803)"
      ]
     },
     "execution_count": 53,
     "metadata": {},
     "output_type": "execute_result"
    }
   ],
   "source": [
    "print_metrics(model_f2_f6, \"FM: f2 + f6\")"
   ]
  },
  {
   "cell_type": "code",
   "execution_count": 106,
   "metadata": {
    "collapsed": false
   },
   "outputs": [],
   "source": [
    "result_dic = {}\n",
    "\n",
    "all_user_id_test = np.unique(df_pair_user_film_test.user_id)\n",
    "for user_id in all_user_id_test:\n",
    "    tmp = df_pair_user_film_test[df_pair_user_film_test['user_id'] == user_id]\n",
    "    user_id_list = list(tmp.user_id)\n",
    "    item_id_list = list(tmp.element_id)\n",
    "    if (len(item_id_list) <= 1):\n",
    "            continue\n",
    "    y_test = list(tmp.score)\n",
    "    sf_test = graphlab.SFrame({'user_id': user_id_list,\n",
    "                               'item_id': item_id_list})\n",
    "    y_pred = model_f2_f6.predict(sf_test)    \n",
    "    y_pred = list(y_pred)\n",
    "    SPR = spearmanr(y_test, y_pred)\n",
    "    if (np.isnan(SPR[0])):\n",
    "        SPR = spearmanr(y_test + [1], y_pred + [1]) \n",
    "    \n",
    "    result_dic[user_id] = (item_id_list, y_test, y_pred, SPR[0])"
   ]
  },
  {
   "cell_type": "code",
   "execution_count": null,
   "metadata": {
    "collapsed": false
   },
   "outputs": [],
   "source": []
  },
  {
   "cell_type": "code",
   "execution_count": 109,
   "metadata": {
    "collapsed": false
   },
   "outputs": [
    {
     "name": "stdout",
     "output_type": "stream",
     "text": [
      "Spearman\n",
      "61957\t236466@7@6.94729480171\t220057@9@7.71840295649\t\n",
      "9751\t219696@9@8.82841594589\t236463@8@7.78100361189\t\n",
      "51865\t236873@8@7.03900275837\t253734@4@3.73696861452\t\n",
      "44571\t219710@5@6.89555515919\t220132@8@8.83131329278\t\n",
      "55701\t218988@2@5.89492126448\t220127@9@6.42087029113\t195807@10@7.20652148075\t\n",
      "328362\t219238@6@4.72255310531\t219651@9@9.21994429126\t\n",
      "44592\t189320@5@6.8662057594\t194451@7@7.32173370712\t\n",
      "58290\t192528@10@7.52428408103\t220103@5@7.37955857433\t\n",
      "27960\t219599@9@7.27514833762\t236962@8@6.5975541029\t\n",
      "57287\t220026@6@7.34184524054\t220062@4@6.89437060178\t253654@3@6.60710188154\t\n",
      "55008\t220014@9@7.37404193905\t253656@7@6.39142045505\t253734@2@5.9124438966\t\n",
      "709533\t189334@10@7.50763475924\t1102374@8@7.26415977921\t\n",
      "211961\t1114113@1@6.98937046629\t190247@5@7.19385223148\t\n",
      "39580\t197063@10@6.96373375508\t197283@8@6.91590891468\t190203@9@6.91602032275\t195349@9@6.93951710456\t\n",
      "44578\t220089@8@6.62026309352\t190117@4@3.89220168245\t219059@8@6.28966317457\t219100@7@5.56100991776\t219586@7@5.31133599045\t\n",
      "42437\t188439@1@7.37099140208\t213058@6@7.77648476752\t207478@5@7.63608098576\t218952@1@6.66845662221\t194875@5@7.4998242164\t\n",
      "633992\t189661@8@6.68108990525\t191646@7@6.49029846753\t1094746@8@6.55335780352\t\n",
      "76698\t196891@10@7.94397387751\t198121@10@8.34125289655\t220103@4@7.89451499308\t\n",
      "53807\t196633@7@9.70571795931\t236873@7@6.79318159354\t\n",
      "599985\t1065140@10@7.40293162177\t219651@9@7.37880064966\t196033@10@7.39696569808\t\n",
      "68547\t198406@10@8.33910421106\t191029@10@7.85196069815\t\n",
      "42314\t213058@10@7.81026431642\t194903@8@7.07348682164\t219758@8@7.71529852088\t\n",
      "77391\t209708@9@7.42163726163\t194364@9@7.4174460587\t\n",
      "60259\t189168@5@6.16140769765\t219586@5@6.3394680798\t\n",
      "699483\t191597@10@7.70257470469\t204331@10@8.33097912853\t\n",
      "19700\t192419@8@11.2951256355\t193593@8@11.8793825636\t\n",
      "631870\t1116063@8@7.81988112433\t1085811@8@5.68127807142\t\n",
      "5212\t188810@9@7.5238468242\t191682@8@7.02276415936\t1070370@10@7.70470970936\t219338@9@7.82960239895\t219732@8@7.43917425543\t\n",
      "44602\t196811@9@7.04417309731\t188936@5@6.21796534649\t190182@5@6.87250347372\t190655@5@6.99247143063\t\n",
      "44683\t253960@6@6.40860360126\t213344@8@7.90024694566\t219956@5@6.56011035025\t247317@6@6.56854148094\t193998@6@7.24686668596\t219001@7@8.29961896696\t219040@7@3.91143024245\t219104@8@7.58366721839\t219599@4@7.22919520932\t219732@8@7.30569083118\t219756@7@7.04041337748\t219825@9@8.32912478035\t219908@5@4.34275088855\t220026@8@8.05486648054\t\n",
      "55354\t192083@10@8.12052168698\t220040@8@7.03677672024\t220109@5@4.56124255114\t219688@8@9.54018040952\t\n",
      "44568\t213376@4@4.12295424571\t190869@8@8.09377702861\t216112@5@8.24459167826\t192124@5@4.74014640346\t218916@9@6.46616851045\t219126@6@5.10340187688\t219649@7@5.62458746404\t219921@7@8.51501338203\t219623@9@8.7667731275\t236613@8@5.97576794066\t\n",
      "44634\t196624@6@6.88693259533\t213065@8@6.37673750596\t197027@6@5.89426385861\t188936@6@6.06999946448\t189387@10@6.80872615725\t195435@5@6.66866009945\t189865@10@7.31522762167\t198072@7@7.020490099\t190117@4@5.97801894732\t190869@7@7.05351901031\t191210@6@6.60350539146\t238124@5@6.36331623503\t194530@9@7.37724738207\t193245@6@7.00280062401\t218883@6@6.66943803751\t194344@10@7.42569606859\t218934@7@6.45358951473\t218952@7@6.2389056776\t219044@5@6.12589007502\t219051@4@6.53757218814\t219598@8@6.91202412561\t219639@5@6.80605602627\t219683@7@7.19936607671\t219731@7@6.73595714024\t219948@4@6.65253349191\t187186@4@6.83847770695\t220076@5@6.78459248129\t195837@6@6.84662428494\t236873@6@6.83795768715\t187850@10@7.1269754689\t253656@5@5.81534623488\t188414@8@7.16790331072\t\n",
      "44599\t213392@5@6.62397693701\t219956@4@7.1018097152\t189582@4@6.50652310418\t187380@7@7.05432500251\t193380@5@7.19198252837\t219586@7@7.10499329412\t195021@8@7.15998129267\t219683@8@7.27147261074\t219988@6@6.77542113125\t220027@7@6.96638625348\t\n",
      "38132\t194871@10@12.621592317\t236463@5@7.94663713244\t220100@8@2.91466870915\t\n",
      "620777\t197361@6@7.4456720257\t189732@7@2.71089278125\t195696@10@8.39949006776\t\n",
      "522610\t1084892@10@6.89503829795\t1135308@5@6.53667046507\t1094947@4@6.75984497167\t\n",
      "623647\t190538@8@7.21138799521\t1101784@7@6.72954414735\t1134579@6@7.25314199764\t195981@8@7.2579329389\t220000@8@7.4270484914\t\n",
      "44584\t219593@6@6.79539444834\t197164@3@6.48994632903\t219978@6@6.68175106683\t247255@8@6.75291472356\t220116@5@7.02128874121\t191093@6@6.68519689296\t193026@6@6.85085916445\t193925@5@6.54230025485\t194035@7@6.56594093315\t218835@7@6.55065437505\t218930@6@6.56514891035\t218978@5@6.49895944231\t219144@6@6.86715943699\t219572@9@6.70836825545\t219598@7@6.72723996108\t219759@6@6.69236848222\t219791@4@6.51089869775\t219800@8@6.98300898729\t219921@7@6.68297577123\t219999@7@6.76395109263\t220102@6@6.58170119119\t212820@8@6.83859520997\t195902@5@6.37832420247\t236957@9@6.59642356836\t236958@6@6.77068888726\t\n",
      "53355\t191521@5@7.30898370887\t193622@8@7.86517430454\t194808@9@7.1716850622\t219758@9@7.68061425952\t219795@9@8.2138729748\t219811@9@7.51597472458\t219916@4@7.0341061862\t195438@9@7.7401296238\t187735@9@7.80703570979\t\n",
      "44651\t197027@6@2.21662727484\t220089@9@6.76099309925\t190160@8@5.71878398901\t197293@7@4.96922390441\t187799@5@6.27822050294\t193245@8@8.07924269109\t194129@7@6.07168179158\t218845@4@6.53014969615\t218870@5@3.64882854122\t219043@8@3.93525457598\t219132@6@5.69355795308\t194922@6@7.14873034227\t219596@8@6.65314717774\t195021@7@7.70518988945\t219744@6@6.61180461551\t219772@5@7.41688876486\t219865@6@5.04756663123\t219967@6@5.39873021199\t219986@8@8.133985741\t220065@7@3.81616253008\t220112@10@6.55285342542\t236542@8@7.33566789581\t1126353@8@7.15228060143\t219787@5@3.46771563478\t\n",
      "44595\t213128@4@6.71165006095\t247317@7@6.38806461636\t190869@7@6.80760365834\t191168@5@6.67533651385\t192777@8@6.6909157787\t219651@7@6.84843941176\t219752@8@6.78135306893\t219988@2@6.46594757205\t220027@3@6.59372475236\t220046@7@6.68139695517\t236945@6@6.90464963594\t219781@5@6.77633360297\t\n",
      "27647\t188423@10@12.1608446848\t213382@8@5.52351545958\t189186@9@8.75772785776\t206214@10@8.1764143622\t189842@9@4.57200772607\t198086@10@10.1084409199\t190004@5@9.03668853136\t198478@7@4.29767381765\t190478@6@8.29937253153\t191354@5@8.70588504214\t191521@3@7.28371042248\t192978@5@2.98675074882\t193586@9@6.42273791779\t218978@8@5.39604891425\t204741@9@7.9750931608\t\n",
      "44597\t196816@5@7.23352933445\t191355@5@6.86391080943\t238124@5@5.78295878621\t218999@7@5.98016339357\t219596@7@6.43061700628\t219599@7@7.11093372596\t219917@7@6.38278232771\t219947@6@4.95639097693\t219948@6@4.48047165028\t253656@3@3.86358256243\t212841@7@5.92219199145\t\n",
      "44694\t196628@2@7.52638625147\t213042@7@5.77948444698\t197063@10@8.59698918218\t188936@5@2.65778364523\t189232@10@7.68848968458\t189637@9@10.8773760544\t190204@5@11.2723195806\t238124@8@5.03114474122\t193001@4@1.64274164698\t194516@10@9.82802970587\t211170@7@12.5817126637\t219732@7@7.05842283165\t203381@8@11.7457556142\t203751@2@8.85894979481\t187791@8@7.1109717969\t\n",
      "56692\t188565@10@7.85511281411\t198081@5@7.66948091318\t191638@6@7.63267391294\t193449@7@7.91692949053\t195986@9@8.08509544352\t196053@10@7.66661670766\t188350@9@7.80156807482\t\n",
      "44657\t213214@5@6.91721959904\t238124@7@6.47541528674\t219683@10@7.07833741522\t236532@4@6.88920145443\t236962@5@6.58416198395\t188256@5@6.91270707098\t\n",
      "68144\t247281@9@6.76780220265\t191290@5@10.4156496196\t219791@7@6.25288639129\t195384@9@1.15923327705\t187766@10@11.766454804\t\n",
      "673893\t197866@10@9.05939405383\t190406@10@9.44292498356\t191308@10@9.68652203804\t191324@10@8.8579830897\t208153@10@10.2933050196\t257844@10@11.1514871775\t233350@7@10.9996373819\t260786@10@9.64127103586\t1145583@5@5.14779947839\t203751@10@8.25849590793\t\n",
      "44565\t196816@8@6.94606608742\t190166@6@6.9242549792\t191561@9@7.32347552251\t193357@9@6.85178897848\t194119@5@6.98431705406\t194279@8@6.51281653323\t218934@5@6.59412330671\t194451@6@6.88110682235\t194808@9@6.82500138023\t194924@4@6.98760224026\t219639@7@6.98303090038\t219650@3@6.92148992614\t219775@8@7.11060146232\t219932@8@7.03045871583\t219963@4@6.75334955399\t195438@5@7.18325761634\t220020@6@6.48148124848\t187700@7@7.40414533419\t\n",
      "26247\t189602@7@7.37932492455\t189679@7@7.49905389862\t190025@8@7.33015918201\t190478@8@7.48282747934\t219076@8@7.03503825007\t220103@10@7.61147024656\t195595@9@7.78639411758\t196191@9@7.36203483245\t188034@7@7.78315712672\t\n",
      "9249\t188719@8@8.06829322086\t190440@7@7.69746606126\t192083@9@7.98755735493\t192115@8@7.84496312201\t212906@8@7.79630602596\t193245@9@7.5074133713\t\n",
      "44621\t219593@6@6.97443579566\t213376@8@6.59994558527\t256618@4@6.91333204399\t218893@8@7.16719313636\t219076@8@6.53099694028\t219576@6@7.02970881725\t219650@8@6.88376947579\t219683@8@7.12709024532\t219808@4@6.62539144615\t219883@5@7.00115056868\t219668@6@6.94907801475\t\n",
      "11677\t188804@10@7.35542861762\t189281@9@7.56774560755\t190848@10@7.55361182848\t187728@10@7.84052224432\t187868@9@7.43257612284\t\n",
      "25658\t196628@7@7.57762406578\t190040@10@6.88518391632\t219795@10@9.00696116519\t\n",
      "230134\t1140336@8@7.18648599598\t1173475@9@7.7606441895\t1127932@8@7.84329623231\t\n",
      "45358\t213233@7@8.93033401384\t219978@8@7.32968259138\t219572@3@8.56502518005\t219883@2@7.51883884112\t220076@8@7.02560213287\t220123@8@5.00998159858\t220126@8@6.91712654228\t220129@8@7.65680183832\t236960@3@3.71752324263\t253741@4@9.23450087007\t\n",
      "705276\t195421@10@9.20997283138\t189832@4@9.53651119179\t190655@8@7.65775940166\t257435@10@6.62717508339\t1094749@9@5.78810776013\t1105105@9@10.1150726217\t\n",
      "61648\t188947@10@7.92011642512\t194222@10@8.07288018483\t194546@10@8.47136573404\t187176@8@8.10763367162\t195727@10@7.57227071045\t\n",
      "687593\t1107127@7@8.1932328929\t190406@10@9.05351386663\t1094745@10@6.92775633859\t209204@8@8.11234027024\t193586@10@7.92130305855\t1111195@10@8.11763478646\t218978@10@7.37086455078\t\n",
      "668077\t1114116@9@5.33373906051\t1122341@8@9.87016709253\t212906@9@9.72125303444\t197305@8@9.60308402662\t\n",
      "44561\t189168@6@6.92373837485\t219639@5@7.21446365038\t220076@4@7.06982872189\t\n",
      "44558\t192085@4@6.77522412167\t219605@7@6.71188312304\t219735@7@6.66522895886\t\n",
      "13572\t192083@9@8.06513396958\t193970@10@7.79945943748\t\n",
      "28090\t197374@6@7.24367595399\t218978@8@6.87740731687\t\n",
      "14267\t213376@5@7.11291670112\t219808@7@7.08549605467\t\n",
      "27848\t191354@7@8.84888613005\t210971@8@7.24224430623\t219676@6@10.3829218709\t\n",
      "8798\t192909@9@4.64210487875\t219086@5@6.65034553164\t\n",
      "48483\t190275@7@10.0520452238\t191897@8@8.99463716134\t\n",
      "73757\t193584@10@7.31388402648\t210473@9@7.37034130686\t\n",
      "456826\t210968@7@6.56757567797\t1055182@10@6.48460745867\t\n",
      "31483\t1126992@7@7.40955468224\t1135887@9@6.93491163652\t\n",
      "708094\t1136308@6@9.16375313634\t219576@8@8.9126647259\t\n",
      "\n"
     ]
    }
   ],
   "source": [
    "print('Spearman') \n",
    "res = \"\"\n",
    "for k, v in sorted(result_dic.iteritems(), key=lambda (k,v): v[3], reverse=True):\n",
    "    item_id_list, y_test, y_pred, spr = v\n",
    "    res += str(k) + \"\\t\"\n",
    "    c = len(item_id_list)\n",
    "    for i in np.arange(c):\n",
    "        res +=str(item_id_list[i]) + \"@\" + str(y_test[i]) + \"@\" + str(y_pred[i]) + \"\\t\"\n",
    "        \n",
    "    res += \"\\n\"\n",
    "    \n",
    "print(res) "
   ]
  },
  {
   "cell_type": "code",
   "execution_count": 110,
   "metadata": {
    "collapsed": false
   },
   "outputs": [
    {
     "name": "stdout",
     "output_type": "stream",
     "text": [
      "Spearman\n",
      "61957\t2\t1.0\n",
      "9751\t2\t1.0\n",
      "51865\t2\t1.0\n",
      "44571\t2\t1.0\n",
      "55701\t3\t1.0\n",
      "328362\t2\t1.0\n",
      "44592\t2\t1.0\n",
      "58290\t2\t1.0\n",
      "27960\t2\t1.0\n",
      "57287\t3\t1.0\n",
      "55008\t3\t1.0\n",
      "709533\t2\t1.0\n",
      "211961\t2\t1.0\n",
      "39580\t4\t0.948683298051\n",
      "44578\t5\t0.948683298051\n",
      "42437\t5\t0.948683298051\n",
      "633992\t3\t0.866025403784\n",
      "76698\t3\t0.866025403784\n",
      "53807\t2\t0.866025403784\n",
      "599985\t3\t0.866025403784\n",
      "68547\t2\t0.866025403784\n",
      "42314\t3\t0.866025403784\n",
      "77391\t2\t0.866025403784\n",
      "60259\t2\t0.866025403784\n",
      "699483\t2\t0.866025403784\n",
      "19700\t2\t0.866025403784\n",
      "631870\t2\t0.866025403784\n",
      "5212\t5\t0.790569415042\n",
      "44602\t4\t0.774596669241\n",
      "44683\t14\t0.689270088839\n",
      "55354\t4\t0.632455532034\n",
      "44568\t10\t0.601272256757\n",
      "44634\t32\t0.585137287737\n",
      "44599\t10\t0.551213050118\n",
      "38132\t3\t0.5\n",
      "620777\t3\t0.5\n",
      "522610\t3\t0.5\n",
      "623647\t5\t0.4472135955\n",
      "44584\t25\t0.406534829846\n",
      "53355\t9\t0.40596049262\n",
      "44651\t24\t0.37391695815\n",
      "44595\t12\t0.357224882477\n",
      "27647\t15\t0.319756971353\n",
      "44597\t11\t0.275198593264\n",
      "44694\t15\t0.253184841771\n",
      "56692\t7\t0.218217890236\n",
      "44657\t6\t0.212511859252\n",
      "68144\t5\t0.205195670417\n",
      "673893\t10\t0.155699788832\n",
      "44565\t18\t0.106591452179\n",
      "26247\t9\t0.0693166993213\n",
      "9249\t6\t0.0308606699924\n",
      "44621\t11\t0.0193121819834\n",
      "11677\t5\t0.0\n",
      "25658\t3\t0.0\n",
      "230134\t3\t0.0\n",
      "45358\t10\t-0.272474630457\n",
      "705276\t6\t-0.294244943168\n",
      "61648\t5\t-0.353553390593\n",
      "687593\t7\t-0.35634832255\n",
      "668077\t4\t-0.4472135955\n",
      "44561\t3\t-0.5\n",
      "44558\t3\t-0.866025403784\n",
      "13572\t2\t-1.0\n",
      "28090\t2\t-1.0\n",
      "14267\t2\t-1.0\n",
      "27848\t3\t-1.0\n",
      "8798\t2\t-1.0\n",
      "48483\t2\t-1.0\n",
      "73757\t2\t-1.0\n",
      "456826\t2\t-1.0\n",
      "31483\t2\t-1.0\n",
      "708094\t2\t-1.0\n",
      "\n"
     ]
    }
   ],
   "source": [
    "print('Spearman') \n",
    "res = \"\"\n",
    "for k, v in sorted(result_dic.iteritems(), key=lambda (k,v): v[3], reverse=True):\n",
    "    item_id_list, y_test, y_pred, spr = v\n",
    "    res += str(k) + \"\\t\" + str(len(item_id_list)) + \"\\t\" + str(spr) + \"\\n\"\n",
    "    \n",
    "print(res) "
   ]
  },
  {
   "cell_type": "code",
   "execution_count": 112,
   "metadata": {
    "collapsed": false
   },
   "outputs": [
    {
     "name": "stdout",
     "output_type": "stream",
     "text": [
      "Spearman\n",
      "61957\n",
      "9751\n",
      "51865\n",
      "44571\n",
      "55701\n",
      "328362\n",
      "44592\n",
      "58290\n",
      "27960\n",
      "57287\n",
      "55008\n",
      "709533\n",
      "211961\n",
      "39580\n",
      "44578\n",
      "42437\n",
      "633992\n",
      "76698\n",
      "53807\n",
      "599985\n",
      "68547\n",
      "42314\n",
      "77391\n",
      "60259\n",
      "699483\n",
      "19700\n",
      "631870\n",
      "5212\n",
      "44602\n",
      "44683\n",
      "55354\n",
      "44568\n",
      "44634\n",
      "44599\n",
      "38132\n",
      "620777\n",
      "522610\n",
      "623647\n",
      "44584\n",
      "53355\n",
      "44651\n",
      "44595\n",
      "27647\n",
      "44597\n",
      "44694\n",
      "56692\n",
      "44657\n",
      "68144\n",
      "673893\n",
      "44565\n",
      "26247\n",
      "9249\n",
      "44621\n",
      "11677\n",
      "25658\n",
      "230134\n",
      "45358\n",
      "705276\n",
      "61648\n",
      "687593\n",
      "668077\n",
      "44561\n",
      "44558\n",
      "13572\n",
      "28090\n",
      "14267\n",
      "27848\n",
      "8798\n",
      "48483\n",
      "73757\n",
      "456826\n",
      "31483\n",
      "708094\n",
      "\n"
     ]
    }
   ],
   "source": [
    "print('Spearman') \n",
    "res = \"\"\n",
    "for k, v in sorted(result_dic.iteritems(), key=lambda (k,v): v[3], reverse=True):\n",
    "    item_id_list, y_test, y_pred, spr = v\n",
    "    res += str(k) + \"\\n\"\n",
    "    \n",
    "print(res) "
   ]
  },
  {
   "cell_type": "code",
   "execution_count": null,
   "metadata": {
    "collapsed": false
   },
   "outputs": [],
   "source": []
  },
  {
   "cell_type": "code",
   "execution_count": 113,
   "metadata": {
    "collapsed": true
   },
   "outputs": [],
   "source": [
    "with open('test_users.txt', 'w') as f:\n",
    "    f.write(res)"
   ]
  },
  {
   "cell_type": "markdown",
   "metadata": {
    "collapsed": true
   },
   "source": [
    "### f1"
   ]
  },
  {
   "cell_type": "code",
   "execution_count": 141,
   "metadata": {
    "collapsed": true
   },
   "outputs": [],
   "source": [
    "#средняя оценка пользователя\n",
    "avg_user_score_list = []\n",
    "all_user_id_train = np.unique(df_pair_user_film_train.user_id)\n",
    "for user_id in all_user_id_train:\n",
    "    tmp = df_pair_user_film_train[df_pair_user_film_train['user_id'] == user_id]\n",
    "    score_list = tmp.score\n",
    "    avg_score = np.average(score_list)\n",
    "    avg_user_score_list.append(avg_score)"
   ]
  },
  {
   "cell_type": "markdown",
   "metadata": {},
   "source": [
    "### f2"
   ]
  },
  {
   "cell_type": "code",
   "execution_count": 10,
   "metadata": {
    "collapsed": true
   },
   "outputs": [],
   "source": [
    "#средняя оценка по фильму\n",
    "avg_film_score_list = []\n",
    "all_film_id_train = np.unique(df_pair_user_film_train.element_id)\n",
    "for film_id in all_film_id_train:\n",
    "    tmp = df_pair_user_film_train[df_pair_user_film_train['element_id'] == film_id]\n",
    "    score_list = tmp.score\n",
    "    avg_score = np.average(score_list)\n",
    "    avg_film_score_list.append(avg_score)"
   ]
  },
  {
   "cell_type": "markdown",
   "metadata": {},
   "source": [
    "### f3"
   ]
  },
  {
   "cell_type": "code",
   "execution_count": 145,
   "metadata": {
    "collapsed": false
   },
   "outputs": [],
   "source": [
    "#средняя длина отзыва о фильме\n",
    "avg_film_review_list = []\n",
    "c = 0\n",
    "all_film_id_train = np.unique(df_pair_user_film_train.element_id)\n",
    "for film_id in all_film_id_train:\n",
    "    rev_len_list = []\n",
    "    tmp = df_pair_user_film_train[df_pair_user_film_train['element_id'] == film_id]\n",
    "    for row in tmp.iterrows():\n",
    "        index, series = row\n",
    "        try:\n",
    "            text = data.ix[index, 'text']\n",
    "        except Exception:\n",
    "            c += 1\n",
    "            continue\n",
    "        words = text.split(' ')\n",
    "        review_length = len(words)\n",
    "        rev_len_list.append(review_length)\n",
    "    \n",
    "    avg_review_length = np.median(rev_len_list)\n",
    "    avg_film_review_list.append(avg_review_length)     "
   ]
  },
  {
   "cell_type": "markdown",
   "metadata": {},
   "source": [
    "### f4"
   ]
  },
  {
   "cell_type": "code",
   "execution_count": 146,
   "metadata": {
    "collapsed": false
   },
   "outputs": [],
   "source": [
    "#средняя длина отзыва пользователя\n",
    "avg_user_review_list = []\n",
    "c = 0\n",
    "all_user_id_train = np.unique(df_pair_user_film_train.user_id)\n",
    "for user_id in all_user_id_train:\n",
    "    rev_len_list = []\n",
    "    tmp = df_pair_user_film_train[df_pair_user_film_train['user_id'] == user_id]\n",
    "    for row in tmp.iterrows():\n",
    "        index, series = row\n",
    "        try:\n",
    "            text = data.ix[index, 'text']\n",
    "        except Exception:\n",
    "            c += 1\n",
    "            continue\n",
    "        words = text.split(' ')\n",
    "        review_length = len(words)\n",
    "        rev_len_list.append(review_length)\n",
    "    \n",
    "    avg_review_length = np.median(rev_len_list)\n",
    "    avg_user_review_list.append(avg_review_length) "
   ]
  },
  {
   "cell_type": "code",
   "execution_count": null,
   "metadata": {
    "collapsed": false
   },
   "outputs": [],
   "source": []
  },
  {
   "cell_type": "markdown",
   "metadata": {
    "collapsed": false
   },
   "source": [
    "### f5"
   ]
  },
  {
   "cell_type": "code",
   "execution_count": 14,
   "metadata": {
    "collapsed": false
   },
   "outputs": [
    {
     "name": "stderr",
     "output_type": "stream",
     "text": [
      "/anaconda/envs/gl-env/lib/python2.7/site-packages/ipykernel/__main__.py:1: ParserWarning: Falling back to the 'python' engine because the 'c' engine does not support regex separators; you can avoid this warning by specifying engine='python'.\n",
      "  if __name__ == '__main__':\n"
     ]
    }
   ],
   "source": [
    "data_train = pd.read_csv('data_train.csv', sep='@@@')"
   ]
  },
  {
   "cell_type": "code",
   "execution_count": 15,
   "metadata": {
    "collapsed": true
   },
   "outputs": [],
   "source": [
    "import nltk\n",
    "from nltk.corpus import stopwords"
   ]
  },
  {
   "cell_type": "code",
   "execution_count": 16,
   "metadata": {
    "collapsed": false
   },
   "outputs": [],
   "source": [
    "import string\n",
    "import pymorphy2\n",
    "morph = pymorphy2.MorphAnalyzer()\n",
    "\n",
    "def tokenize_me(text):\n",
    "    #firstly let's apply nltk tokenization\n",
    "    u = unicode(text, \"utf-8\")\n",
    "    tokens = nltk.word_tokenize(u)\n",
    "\n",
    "    #let's delete punctuation symbols\n",
    "    tokens = [i for i in tokens if ( i not in string.punctuation)]\n",
    "\n",
    "    #deleting stop_words\n",
    "    stop_words = stopwords.words('russian')\n",
    "    stop_words.extend(['что', 'это', 'так', 'вот', 'быть', 'как', 'в', '—', 'к','\\'\\'' , 'на', '\\\\n', '\\''])\n",
    "    tokens = [i for i in tokens if ( i not in stop_words )]\n",
    "    \n",
    "    tokens = [i.lower() for i in tokens]\n",
    "    normal_forms = []\n",
    "    for word in tokens:\n",
    "        p = morph.parse(word)[0]\n",
    "        normal_form = p.normal_form\n",
    "        normal_forms.append(normal_form)\n",
    "    \n",
    "    return normal_forms"
   ]
  },
  {
   "cell_type": "code",
   "execution_count": 17,
   "metadata": {
    "collapsed": false
   },
   "outputs": [
    {
     "name": "stderr",
     "output_type": "stream",
     "text": [
      "/anaconda/envs/gl-env/lib/python2.7/site-packages/ipykernel/__main__.py:16: UnicodeWarning: Unicode equal comparison failed to convert both arguments to Unicode - interpreting them as being unequal\n"
     ]
    }
   ],
   "source": [
    "tokens = []\n",
    "for row in data_train.iterrows():\n",
    "    index, series = row\n",
    "    u_id, f_id, score, text = series\n",
    "    tokens.extend(tokenize_me(text))"
   ]
  },
  {
   "cell_type": "code",
   "execution_count": 18,
   "metadata": {
    "collapsed": true
   },
   "outputs": [],
   "source": [
    "allWords = tokens\n",
    "allWordDist = nltk.FreqDist(w.lower() for w in allWords)"
   ]
  },
  {
   "cell_type": "code",
   "execution_count": 19,
   "metadata": {
    "collapsed": false
   },
   "outputs": [
    {
     "name": "stdout",
     "output_type": "stream",
     "text": [
      "фильм\n",
      "``\n",
      "это\n",
      "...\n",
      "который\n",
      "—\n",
      "очень\n",
      "один\n",
      "свой\n",
      "весь\n",
      "хороший\n",
      "смотреть\n",
      "самый\n",
      "в\n",
      "такой\n",
      "человек\n",
      "но\n",
      "\\n\\t\\t\\t\n",
      "и\n",
      "–\n"
     ]
    }
   ],
   "source": [
    "mostCommon_10000 = allWordDist.most_common(10000)\n",
    "for row in mostCommon_10000[:20]:\n",
    "    word, count = row\n",
    "    print word"
   ]
  },
  {
   "cell_type": "code",
   "execution_count": 36,
   "metadata": {
    "collapsed": true
   },
   "outputs": [],
   "source": [
    "list_of_most_common_words = []\n",
    "for word, cnt in mostCommon_10000:\n",
    "    list_of_most_common_words.append(word)"
   ]
  },
  {
   "cell_type": "code",
   "execution_count": 37,
   "metadata": {
    "collapsed": false
   },
   "outputs": [
    {
     "name": "stderr",
     "output_type": "stream",
     "text": [
      "/anaconda/envs/gl-env/lib/python2.7/site-packages/ipykernel/__main__.py:16: UnicodeWarning: Unicode equal comparison failed to convert both arguments to Unicode - interpreting them as being unequal\n"
     ]
    }
   ],
   "source": [
    "data_train_lst = []\n",
    "for row in data_train.iterrows():\n",
    "    index, series = row\n",
    "    u_id, f_id, score, text = series\n",
    "    lst_of_tokens = tokenize_me(text)\n",
    "    sentence = ' '.join(lst_of_tokens)\n",
    "    data_train_lst.append(sentence)"
   ]
  },
  {
   "cell_type": "code",
   "execution_count": 26,
   "metadata": {
    "collapsed": true
   },
   "outputs": [],
   "source": [
    "from sklearn.feature_extraction.text import CountVectorizer\n",
    "count_vect = CountVectorizer(vocabulary=list_of_most_common_words)\n",
    "X_train_10000 = count_vect.fit_transform(data_train_lst)"
   ]
  },
  {
   "cell_type": "code",
   "execution_count": 20,
   "metadata": {
    "collapsed": true
   },
   "outputs": [],
   "source": [
    "#название признака - tf\n",
    "def f_tf(user_id, data_train, X, n):\n",
    "    i = 0\n",
    "    tf = np.zeros(shape = (n, ), dtype=np.int)\n",
    "    lst_of_index = data_train.loc[data_train['user_id'] == user_id].index\n",
    "    \n",
    "    for index in lst_of_index:  \n",
    "        tf += X[index]\n",
    "        \n",
    "    return tf    "
   ]
  },
  {
   "cell_type": "code",
   "execution_count": 51,
   "metadata": {
    "collapsed": false
   },
   "outputs": [],
   "source": [
    "X = X_train_10000.toarray()\n",
    "vec = f_tf(44694, data_train, X, 10000)"
   ]
  },
  {
   "cell_type": "code",
   "execution_count": 52,
   "metadata": {
    "collapsed": false
   },
   "outputs": [],
   "source": [
    "most_common_words_dic = {}\n",
    "all_user_id_train = np.unique(df_pair_user_film_train.user_id)\n",
    "for user_id in all_user_id_train:\n",
    "    vec = f_tf(user_id, data_train, X, 10000)\n",
    "    most_common_words_dic[user_id] = vec"
   ]
  },
  {
   "cell_type": "code",
   "execution_count": null,
   "metadata": {
    "collapsed": false
   },
   "outputs": [],
   "source": []
  },
  {
   "cell_type": "markdown",
   "metadata": {
    "collapsed": true
   },
   "source": [
    "### f6 Tomita"
   ]
  },
  {
   "cell_type": "markdown",
   "metadata": {},
   "source": [
    "сначала нужно получить спискок названий фильмов, упоминавшихся в отзывах"
   ]
  },
  {
   "cell_type": "code",
   "execution_count": 38,
   "metadata": {
    "collapsed": false
   },
   "outputs": [],
   "source": [
    "import lxml.html as html"
   ]
  },
  {
   "cell_type": "code",
   "execution_count": 39,
   "metadata": {
    "collapsed": true
   },
   "outputs": [],
   "source": [
    "page = html.parse('/Users/Stepan/Desktop/tomita/pretty.html')"
   ]
  },
  {
   "cell_type": "code",
   "execution_count": 40,
   "metadata": {
    "collapsed": false
   },
   "outputs": [],
   "source": [
    "root = page.getroot()"
   ]
  },
  {
   "cell_type": "code",
   "execution_count": 41,
   "metadata": {
    "collapsed": false
   },
   "outputs": [],
   "source": [
    "film_names = []\n",
    "for link in root.iterlinks():\n",
    "    element, attribute, link, pos = link\n",
    "    film = element.text\n",
    "    words_in_film = film.split(\" \")\n",
    "    if (len(words_in_film) <= 3):\n",
    "        film_names.append(film)"
   ]
  },
  {
   "cell_type": "code",
   "execution_count": 43,
   "metadata": {
    "collapsed": false
   },
   "outputs": [
    {
     "name": "stdout",
     "output_type": "stream",
     "text": [
      "\"Куб\"\n",
      "\"Боярская сотни\"\n",
      "\"Шрек\"\n",
      "\"Властелин Колец\"\n",
      "\"Кинг Конг\"\n",
      "\"Вальмон\"\n",
      "\"Мадонна\"\n",
      "\"Хищник\" .\"\n",
      "\"Джуманджи\"\n",
      "\"Твин пикс\" .\"\n"
     ]
    }
   ],
   "source": [
    "for film in film_names[:10]:\n",
    "    print film"
   ]
  },
  {
   "cell_type": "code",
   "execution_count": 44,
   "metadata": {
    "collapsed": false
   },
   "outputs": [
    {
     "data": {
      "text/plain": [
       "1220"
      ]
     },
     "execution_count": 44,
     "metadata": {},
     "output_type": "execute_result"
    }
   ],
   "source": [
    "len(film_names)"
   ]
  },
  {
   "cell_type": "code",
   "execution_count": 45,
   "metadata": {
    "collapsed": false
   },
   "outputs": [],
   "source": [
    "import re\n",
    "film_names = [i.lower() for i in film_names]\n",
    "film_names = [re.sub('[!@#$\\\".,?]', '', i) for i in film_names]"
   ]
  },
  {
   "cell_type": "code",
   "execution_count": 46,
   "metadata": {
    "collapsed": false
   },
   "outputs": [],
   "source": [
    "film_names = np.unique(np.array(film_names))"
   ]
  },
  {
   "cell_type": "code",
   "execution_count": 47,
   "metadata": {
    "collapsed": false
   },
   "outputs": [],
   "source": [
    "from sklearn.feature_extraction.text import CountVectorizer\n",
    "count_vect = CountVectorizer(vocabulary=film_names)\n",
    "X_train_tomita = count_vect.fit_transform(data_train_lst)"
   ]
  },
  {
   "cell_type": "code",
   "execution_count": 48,
   "metadata": {
    "collapsed": false
   },
   "outputs": [],
   "source": [
    "X = X_train_tomita.toarray()"
   ]
  },
  {
   "cell_type": "code",
   "execution_count": 49,
   "metadata": {
    "collapsed": false
   },
   "outputs": [],
   "source": [
    "_, k = X.shape\n",
    "tomita_dic = {}\n",
    "all_user_id_train = np.unique(df_pair_user_film_train.user_id)\n",
    "for user_id in all_user_id_train:\n",
    "    vec = f_tf(user_id, data_train, X, k)\n",
    "    tomita_dic[user_id] = vec"
   ]
  },
  {
   "cell_type": "markdown",
   "metadata": {},
   "source": [
    "### Признаки от окресности"
   ]
  },
  {
   "cell_type": "markdown",
   "metadata": {},
   "source": [
    "### f7 - соседи пользователя"
   ]
  },
  {
   "cell_type": "code",
   "execution_count": 149,
   "metadata": {
    "collapsed": false
   },
   "outputs": [],
   "source": [
    "lst_of_dic = []\n",
    "lst_of_dic_main = []\n",
    "c = 0\n",
    "for user_id in all_user_id_train:\n",
    "    dic = {}\n",
    "    tmp = df_pair_user_film_train[df_pair_user_film_train['user_id'] == user_id]\n",
    "    for film_id in tmp.element_id:\n",
    "        dic[user_id] = film_id\n",
    "        lst_of_dic.append(dic)\n",
    "        c += 1\n",
    "        if (c % len(all_user_id_train) == 0):\n",
    "            lst_of_dic_main.append(lst_of_dic)\n",
    "            lst_of_dic = []"
   ]
  },
  {
   "cell_type": "markdown",
   "metadata": {
    "collapsed": false
   },
   "source": [
    "### f8 - средняя оценка пользователей user-a u - neighborhood"
   ]
  },
  {
   "cell_type": "code",
   "execution_count": 151,
   "metadata": {
    "collapsed": true
   },
   "outputs": [],
   "source": [
    "users_neighborhood_to_user_by_avg_rating = [] # neighborhood\n",
    "for user_id in all_user_id_train:\n",
    "    ratings = []\n",
    "    tmp = df_pair_user_film_train[df_pair_user_film_train['user_id'] == user_id]\n",
    "    for film_id in tmp.element_id:\n",
    "        tmp_1 = df_pair_user_film_train[df_pair_user_film_train['element_id'] == film_id]\n",
    "        for user_id_1 in tmp_1.user_id:\n",
    "            tmp_2 = df_pair_user_film_train[df_pair_user_film_train['user_id'] == user_id_1]\n",
    "            ratings.append(np.average(tmp_2.score))      \n",
    "    users_neighborhood_to_user_by_avg_rating.append(np.average(ratings))"
   ]
  },
  {
   "cell_type": "markdown",
   "metadata": {},
   "source": [
    "### f9 - количество пользователей"
   ]
  },
  {
   "cell_type": "code",
   "execution_count": 166,
   "metadata": {
    "collapsed": false
   },
   "outputs": [],
   "source": [
    "users_neighborhood_to_user_by_count = [] # neighborhood\n",
    "c = 0\n",
    "for user_id in all_user_id_train:\n",
    "    count = 0\n",
    "    tmp = df_pair_user_film_train[df_pair_user_film_train['user_id'] == user_id]\n",
    "    for film_id in tmp.element_id:\n",
    "        tmp_1 = df_pair_user_film_train[df_pair_user_film_train['element_id'] == film_id]\n",
    "        count += len(tmp_1.user_id) - 1\n",
    "    users_neighborhood_to_user_by_count.append(count)"
   ]
  },
  {
   "cell_type": "markdown",
   "metadata": {
    "collapsed": false
   },
   "source": [
    "### f10 - окресность фильма, средняя оценка"
   ]
  },
  {
   "cell_type": "code",
   "execution_count": 167,
   "metadata": {
    "collapsed": true
   },
   "outputs": [],
   "source": [
    "films_neighborhood_to_film_by_avg = []\n",
    "for film_id in all_film_id_train:\n",
    "    ratings = []\n",
    "    tmp = df_pair_user_film_train[df_pair_user_film_train['element_id'] == film_id]\n",
    "    for user_id in tmp.user_id:\n",
    "        tmp_1 = df_pair_user_film_train[df_pair_user_film_train['user_id'] == user_id]\n",
    "        for film_id_1 in tmp_1.element_id:\n",
    "            tmp_2 = df_pair_user_film_train[df_pair_user_film_train['element_id'] == film_id_1]\n",
    "            ratings.append(np.average(tmp_2.score))\n",
    "    films_neighborhood_to_film_by_avg.append(np.average(ratings))        "
   ]
  },
  {
   "cell_type": "markdown",
   "metadata": {
    "collapsed": false
   },
   "source": [
    "### f11 - количество"
   ]
  },
  {
   "cell_type": "code",
   "execution_count": 168,
   "metadata": {
    "collapsed": false
   },
   "outputs": [],
   "source": [
    "films_neighborhood_to_film_by_count = []\n",
    "for film_id in all_film_id_train:\n",
    "    count = 0\n",
    "    tmp = df_pair_user_film_train[df_pair_user_film_train['element_id'] == film_id]\n",
    "    for user_id in tmp.user_id:\n",
    "        tmp_1 = df_pair_user_film_train[df_pair_user_film_train['user_id'] == user_id]\n",
    "        count += len(tmp_1.element_id)\n",
    "    films_neighborhood_to_film_by_count.append(count)        "
   ]
  },
  {
   "cell_type": "markdown",
   "metadata": {},
   "source": [
    "### Создадим словарь из всех признаков"
   ]
  },
  {
   "cell_type": "code",
   "execution_count": 193,
   "metadata": {
    "collapsed": false
   },
   "outputs": [],
   "source": [
    "fm_features = {}\n",
    "fm_features['u1'] = avg_user_score_list\n",
    "fm_features['f2'] = avg_film_score_list \n",
    "fm_features['f3'] = avg_film_review_list\n",
    "fm_features['u4'] = avg_user_review_list\n",
    "fm_features['u5'] = most_common_words_dic\n",
    "fm_features['u6'] = tomita_dic\n",
    "fm_features['u8'] = users_neighborhood_to_user_by_avg_rating\n",
    "fm_features['u9'] = users_neighborhood_to_user_by_count\n",
    "fm_features['f10'] = films_neighborhood_to_film_by_avg\n",
    "fm_features['f11'] = films_neighborhood_to_film_by_count"
   ]
  },
  {
   "cell_type": "code",
   "execution_count": null,
   "metadata": {
    "collapsed": true
   },
   "outputs": [],
   "source": [
    "ten_metrics_result = {}\n",
    "\n",
    "sf = graphlab.SFrame({ 'user_id': user_id_list_train,\n",
    "                       'item_id': item_id_list_train,\n",
    "                       'rating': rating_list_train})\n",
    "\n",
    "features = fm_features.keys()\n",
    "all_pairs = list(itertools.combinations(features, 10))\n",
    "for pairs in all_pairs:\n",
    "    user_dic = {}\n",
    "    user_dic['user_id'] = all_user_id_train\n",
    "    film_dic = {}\n",
    "    film_dic['item_id'] = all_film_id_train\n",
    "    name = \"\"\n",
    "    for f in pairs:\n",
    "        name += f + \" \"\n",
    "        if ('u' in f):\n",
    "            user_dic[f] = fm_features[f]\n",
    "        else:\n",
    "            film_dic[f] = fm_features[f]\n",
    "            \n",
    "    print('BEGIN WITH', name)\n",
    "    user_info = graphlab.SFrame(user_dic)\n",
    "\n",
    "    item_info = graphlab.SFrame(film_dic)\n",
    "    \n",
    "    FM = graphlab.ranking_factorization_recommender.create(sf, num_factors=100, \n",
    "                                               target='rating',\n",
    "                                               user_data=user_info,\n",
    "                                               item_data=item_info, \n",
    "                                               linear_regularization=0.0001,\n",
    "                                               ranking_regularization=0.0001)\n",
    "    \n",
    "    try:\n",
    "        lst = print_metrics(FM, 'FM:' + name)\n",
    "        ten_metrics_result[name] = (lst)\n",
    "    except Exception:\n",
    "        print(\"exception on\", name)"
   ]
  },
  {
   "cell_type": "code",
   "execution_count": null,
   "metadata": {
    "collapsed": false
   },
   "outputs": [],
   "source": []
  },
  {
   "cell_type": "code",
   "execution_count": null,
   "metadata": {
    "collapsed": false
   },
   "outputs": [],
   "source": []
  },
  {
   "cell_type": "code",
   "execution_count": null,
   "metadata": {
    "collapsed": false
   },
   "outputs": [],
   "source": []
  },
  {
   "cell_type": "code",
   "execution_count": null,
   "metadata": {
    "collapsed": true
   },
   "outputs": [],
   "source": []
  },
  {
   "cell_type": "code",
   "execution_count": 228,
   "metadata": {
    "collapsed": false
   },
   "outputs": [],
   "source": [
    "import pickle\n",
    "with open('ten_metrics_result.pickle', 'wb') as f:\n",
    "    pickle.dump(ten_metrics_result, f)"
   ]
  },
  {
   "cell_type": "code",
   "execution_count": 298,
   "metadata": {
    "collapsed": false
   },
   "outputs": [],
   "source": [
    "with open('ten_metrics_result.pickle', 'rb') as f:\n",
    "    data = pickle.load(f)"
   ]
  },
  {
   "cell_type": "code",
   "execution_count": null,
   "metadata": {
    "collapsed": false
   },
   "outputs": [],
   "source": []
  },
  {
   "cell_type": "code",
   "execution_count": 300,
   "metadata": {
    "collapsed": false
   },
   "outputs": [
    {
     "name": "stdout",
     "output_type": "stream",
     "text": [
      "MSE\n",
      "MAP\n",
      "Spearman\n"
     ]
    }
   ],
   "source": [
    "print('MSE')\n",
    "for key, value in sorted(data.iteritems(), key=lambda (k,v): v[0])[:3]:\n",
    "    print \"%s: %s\" % (key, value)\n",
    "\n",
    "print('MAP')    \n",
    "for key, value in sorted(data.iteritems(), key=lambda (k,v): v[1], reverse=True)[:3]:\n",
    "    print \"%s: %s\" % (key, value)    \n",
    "\n",
    "print('Spearman')    \n",
    "for key, value in sorted(data.iteritems(), key=lambda (k,v): v[2], reverse=True)[:3]:\n",
    "    print \"%s: %s\" % (key, value) "
   ]
  },
  {
   "cell_type": "code",
   "execution_count": null,
   "metadata": {
    "collapsed": true
   },
   "outputs": [],
   "source": []
  },
  {
   "cell_type": "markdown",
   "metadata": {
    "collapsed": false
   },
   "source": [
    "### Результаты"
   ]
  },
  {
   "cell_type": "code",
   "execution_count": 174,
   "metadata": {
    "collapsed": false
   },
   "outputs": [],
   "source": [
    "import itertools\n",
    "features = fm_features.keys()\n",
    "all_pairs = list(itertools.combinations(features, 2))"
   ]
  },
  {
   "cell_type": "code",
   "execution_count": null,
   "metadata": {
    "collapsed": false
   },
   "outputs": [],
   "source": []
  },
  {
   "cell_type": "code",
   "execution_count": 133,
   "metadata": {
    "collapsed": false
   },
   "outputs": [
    {
     "data": {
      "image/png": "[encoded data removed]",
      "text/plain": [
       "<matplotlib.figure.Figure at 0x19ae34d50>"
      ]
     },
     "metadata": {},
     "output_type": "display_data"
    }
   ],
   "source": [
    "plt.figure(figsize=(12,5))\n",
    "plt.subplot (1, 2, 1)\n",
    "n_models = 3\n",
    "\n",
    "MSE_result = (52, 50, 4.05)\n",
    "index = np.arange(n_models)\n",
    "opacity = 0.4\n",
    "bar_width = 0.35\n",
    "rects1 = plt.bar(index, MSE_result, bar_width,\n",
    "                 alpha=opacity)\n",
    "\n",
    "plt.xlabel('Recommender models')\n",
    "plt.ylabel('Scores')\n",
    "plt.title('Mean squared error')\n",
    "plt.xticks(index + bar_width / 2, ('Item-based-cosine', 'Item-based-jaccard', 'Item-based-pearson'))\n",
    "plt.legend()\n",
    "\n",
    "plt.tight_layout()\n",
    "\n",
    "plt.subplot (1, 2, 2)\n",
    "n_models = 5\n",
    "\n",
    "MSE_result = (4.05, 4.05, 4.3, 3.43, 3.40)\n",
    "index = np.arange(n_models)\n",
    "rects2 = plt.bar(index, MSE_result, bar_width,\n",
    "                 alpha=opacity)\n",
    "\n",
    "plt.xlabel('Recommender models')\n",
    "plt.ylabel('Scores')\n",
    "plt.title('Mean squared error')\n",
    "plt.xticks(index + bar_width / 2, ('MostPopular', 'Item-based-pearson', 'PureSVD', 'LFM', 'LFM + implicit'))\n",
    "plt.legend()\n",
    "\n",
    "plt.tight_layout()"
   ]
  },
  {
   "cell_type": "code",
   "execution_count": 317,
   "metadata": {
    "collapsed": false
   },
   "outputs": [
    {
     "data": {
      "image/png": "[encoded data removed]",
      "text/plain": [
       "<matplotlib.figure.Figure at 0x154c55dd0>"
      ]
     },
     "metadata": {},
     "output_type": "display_data"
    }
   ],
   "source": [
    "plt.figure(figsize=(12,5))\n",
    "plt.subplot (1, 2, 1)\n",
    "n_models = 3\n",
    "\n",
    "MSE_result = (0, 0, 0.00079)\n",
    "index = np.arange(n_models)\n",
    "opacity = 0.4\n",
    "bar_width = 0.35\n",
    "rects1 = plt.bar(index, MSE_result, bar_width,\n",
    "                 alpha=opacity, color = 'r')\n",
    "\n",
    "plt.xlabel('Recommender models')\n",
    "plt.ylabel('Scores')\n",
    "plt.title('MAP')\n",
    "plt.xticks(index + bar_width / 2, ('Item-based-cosine', 'Item-based-jaccard', 'Item-based-pearson'))\n",
    "plt.legend()\n",
    "\n",
    "plt.tight_layout()\n",
    "\n",
    "plt.subplot (1, 2, 2)\n",
    "n_models = 5\n",
    "\n",
    "MSE_result = (0.0008, 0.00079, 0.0009, 0.0039, 0.0034)\n",
    "index = np.arange(n_models)\n",
    "rects2 = plt.bar(index, MSE_result, bar_width,\n",
    "                 alpha=opacity, color = 'r')\n",
    "\n",
    "plt.xlabel('Recommender models')\n",
    "plt.ylabel('Scores')\n",
    "plt.title('MAP')\n",
    "plt.xticks(index + bar_width / 2, ('MostPopular', 'Item-based-pearson', 'PureSVD', 'LFM', 'LFM + implicit'))\n",
    "plt.legend()\n",
    "\n",
    "plt.tight_layout()"
   ]
  },
  {
   "cell_type": "code",
   "execution_count": 318,
   "metadata": {
    "collapsed": false
   },
   "outputs": [
    {
     "data": {
      "image/png": "[encoded data removed]",
      "text/plain": [
       "<matplotlib.figure.Figure at 0x154c551d0>"
      ]
     },
     "metadata": {},
     "output_type": "display_data"
    }
   ],
   "source": [
    "plt.figure(figsize=(12,5))\n",
    "plt.subplot (1, 2, 1)\n",
    "n_models = 3\n",
    "\n",
    "MSE_result = (0, 0, 0.36)\n",
    "index = np.arange(n_models)\n",
    "opacity = 0.4\n",
    "bar_width = 0.35\n",
    "rects1 = plt.bar(index, MSE_result, bar_width,\n",
    "                 alpha=opacity, color = 'g')\n",
    "\n",
    "plt.xlabel('Recommender models')\n",
    "plt.ylabel('Scores')\n",
    "plt.title('Spearman')\n",
    "plt.xticks(index + bar_width / 2, ('Item-based-cosine', 'Item-based-jaccard', 'Item-based-pearson'))\n",
    "plt.legend()\n",
    "\n",
    "plt.tight_layout()\n",
    "\n",
    "plt.subplot (1, 2, 2)\n",
    "n_models = 5\n",
    "\n",
    "MSE_result = (0.36, 0.36, 0.34, 0.37, 0.42)\n",
    "index = np.arange(n_models)\n",
    "rects2 = plt.bar(index, MSE_result, bar_width,\n",
    "                 alpha=opacity, color = 'g')\n",
    "\n",
    "plt.xlabel('Recommender models')\n",
    "plt.ylabel('Scores')\n",
    "plt.title('Spearman')\n",
    "plt.xticks(index + bar_width / 2, ('MostPopular', 'Item-based-pearson', 'PureSVD', 'LFM', 'LFM + implicit'))\n",
    "plt.legend()\n",
    "\n",
    "plt.tight_layout()"
   ]
  },
  {
   "cell_type": "code",
   "execution_count": 322,
   "metadata": {
    "collapsed": false
   },
   "outputs": [
    {
     "data": {
      "image/png": "[encoded data removed]",
      "text/plain": [
       "<matplotlib.figure.Figure at 0x154b39f50>"
      ]
     },
     "metadata": {},
     "output_type": "display_data"
    }
   ],
   "source": [
    "plt.figure(figsize=(12,5))\n",
    "n_models = 3\n",
    "\n",
    "plt.subplot (1, 3, 1)\n",
    "MSE_result = (3.36, 3.45, 3.45)\n",
    "index = np.arange(n_models)\n",
    "opacity = 0.4\n",
    "bar_width = 0.35\n",
    "rects1 = plt.bar(index, MSE_result, bar_width,\n",
    "                 alpha=opacity)\n",
    "\n",
    "plt.xlabel('Recommender models')\n",
    "plt.ylabel('Scores')\n",
    "plt.title('Mean squared error')\n",
    "plt.xticks(index + bar_width / 2, ('FM f2 + f6', 'FM f2 + f11', 'FM f10 + f11'))\n",
    "plt.legend()\n",
    "\n",
    "plt.tight_layout()\n",
    "\n",
    "plt.subplot (1, 3, 2)\n",
    "MSE_result = (0.444, 0.40, 0.39)\n",
    "index = np.arange(n_models)\n",
    "opacity = 0.4\n",
    "bar_width = 0.35\n",
    "rects1 = plt.bar(index, MSE_result, bar_width,\n",
    "                 alpha=opacity, color = 'g')\n",
    "\n",
    "plt.xlabel('Recommender models')\n",
    "plt.ylabel('Scores')\n",
    "plt.title('Spearman')\n",
    "plt.xticks(index + bar_width / 2, ('FM f2 + f6', 'FM f8 + f9', 'FM f1 + f9'))\n",
    "plt.legend()\n",
    "\n",
    "plt.tight_layout()\n",
    "\n",
    "plt.subplot (1, 3, 3)\n",
    "MSE_result = (0.017, 0.015, 0.011)\n",
    "index = np.arange(n_models)\n",
    "opacity = 0.4\n",
    "bar_width = 0.35\n",
    "rects1 = plt.bar(index, MSE_result, bar_width,\n",
    "                 alpha=opacity, color = 'r')\n",
    "\n",
    "plt.xlabel('Recommender models')\n",
    "plt.ylabel('Scores')\n",
    "plt.title('MAP')\n",
    "plt.xticks(index + bar_width / 2, ('FM f8 + f11', 'FM f8 + f9', 'FM f1 + f9'))\n",
    "plt.legend()\n",
    "\n",
    "plt.tight_layout()"
   ]
  },
  {
   "cell_type": "code",
   "execution_count": null,
   "metadata": {
    "collapsed": false
   },
   "outputs": [],
   "source": []
  },
  {
   "cell_type": "code",
   "execution_count": 320,
   "metadata": {
    "collapsed": false
   },
   "outputs": [
    {
     "data": {
      "image/png": "[encoded data removed]",
      "text/plain": [
       "<matplotlib.figure.Figure at 0x1388a80d0>"
      ]
     },
     "metadata": {},
     "output_type": "display_data"
    }
   ],
   "source": [
    "plt.figure(figsize=(12,5))\n",
    "n_models = 3\n",
    "\n",
    "plt.subplot (1, 3, 1)\n",
    "MSE_result = (3.21, 3.21, 3.38)\n",
    "index = np.arange(n_models)\n",
    "opacity = 0.4\n",
    "bar_width = 0.35\n",
    "rects1 = plt.bar(index, MSE_result, bar_width,\n",
    "                 alpha=opacity)\n",
    "\n",
    "plt.xlabel('Recommender models')\n",
    "plt.ylabel('Scores')\n",
    "plt.title('Mean squared error')\n",
    "plt.xticks(index + bar_width / 2, ('FM f1 + f6 + f11', 'FM f2 + f6 + f11', 'FM f2 + f5 + f9'))\n",
    "plt.legend()\n",
    "\n",
    "plt.tight_layout()\n",
    "\n",
    "plt.subplot (1, 3, 2)\n",
    "MSE_result = (0.40, 0.39, 0.39)\n",
    "index = np.arange(n_models)\n",
    "opacity = 0.4\n",
    "bar_width = 0.35\n",
    "rects1 = plt.bar(index, MSE_result, bar_width,\n",
    "                 alpha=opacity, color = 'g')\n",
    "\n",
    "plt.xlabel('Recommender models')\n",
    "plt.ylabel('Scores')\n",
    "plt.title('Spearman')\n",
    "plt.xticks(index + bar_width / 2, ('FM f5 + f8 + f9', 'FM f5 + f6 + f11', 'FM f2 + f5 + f9'))\n",
    "plt.legend()\n",
    "\n",
    "plt.tight_layout()\n",
    "\n",
    "plt.subplot (1, 3, 3)\n",
    "MSE_result = (0.015, 0.014, 0.013)\n",
    "index = np.arange(n_models)\n",
    "opacity = 0.4\n",
    "bar_width = 0.35\n",
    "rects1 = plt.bar(index, MSE_result, bar_width,\n",
    "                 alpha=opacity, color = 'r')\n",
    "\n",
    "plt.xlabel('Recommender models')\n",
    "plt.ylabel('Scores')\n",
    "plt.title('MAP')\n",
    "plt.xticks(index + bar_width / 2, ('FM f1 + f8 + f9', 'FM f5 + f8 + f9', 'FM f1 + f5 + f9'))\n",
    "plt.legend()\n",
    "\n",
    "plt.tight_layout()"
   ]
  },
  {
   "cell_type": "code",
   "execution_count": null,
   "metadata": {
    "collapsed": false
   },
   "outputs": [],
   "source": []
  },
  {
   "cell_type": "code",
   "execution_count": 325,
   "metadata": {
    "collapsed": false
   },
   "outputs": [
    {
     "data": {
      "image/png": "[encoded data removed]",
      "text/plain": [
       "<matplotlib.figure.Figure at 0x1389da5d0>"
      ]
     },
     "metadata": {},
     "output_type": "display_data"
    }
   ],
   "source": [
    "plt.figure(figsize=(14,5))\n",
    "n_models = 3\n",
    "\n",
    "plt.subplot (1, 3, 1)\n",
    "MSE_result = (3.46, 3.51, 43.38)\n",
    "index = np.arange(n_models)\n",
    "opacity = 0.4\n",
    "bar_width = 0.35\n",
    "rects1 = plt.bar(index, MSE_result, bar_width,\n",
    "                 alpha=opacity)\n",
    "\n",
    "plt.xlabel('Recommender models')\n",
    "plt.ylabel('Scores')\n",
    "plt.title('Mean squared error')\n",
    "plt.xticks(index + bar_width / 2, ('FM f1 + f2 + f5 + f11', 'FM f1 + f2 + f6 + f11', 'FM f1 + f5 + f10 + f11'))\n",
    "plt.legend()\n",
    "\n",
    "plt.tight_layout()\n",
    "\n",
    "plt.subplot (1, 3, 2)\n",
    "MSE_result = (0.42, 0.42, 0.37)\n",
    "index = np.arange(n_models)\n",
    "opacity = 0.4\n",
    "bar_width = 0.35\n",
    "rects1 = plt.bar(index, MSE_result, bar_width,\n",
    "                 alpha=opacity, color = 'g')\n",
    "\n",
    "plt.xlabel('Recommender models')\n",
    "plt.ylabel('Scores')\n",
    "plt.title('Spearman')\n",
    "plt.xticks(index + bar_width / 2, ('FM f2 + f5 + f6 + f8', 'FM f1 + f5 + f8 + f9', 'FM f5 + f6 + f8 + f9'))\n",
    "plt.legend()\n",
    "\n",
    "plt.tight_layout()\n",
    "\n",
    "plt.subplot (1, 3, 3)\n",
    "MSE_result = (0.02, 0.019, 0.013)\n",
    "index = np.arange(n_models)\n",
    "opacity = 0.4\n",
    "bar_width = 0.35\n",
    "rects1 = plt.bar(index, MSE_result, bar_width,\n",
    "                 alpha=opacity, color = 'r')\n",
    "\n",
    "plt.xlabel('Recommender models')\n",
    "plt.ylabel('Scores')\n",
    "plt.title('MAP')\n",
    "plt.xticks(index + bar_width / 2, ('FM f5 + f8 + f9 + f11', 'FM f5 + f8 + f9', 'FM f1 + f5 + f9'))\n",
    "plt.legend()\n",
    "\n",
    "plt.tight_layout()"
   ]
  },
  {
   "cell_type": "code",
   "execution_count": null,
   "metadata": {
    "collapsed": false
   },
   "outputs": [],
   "source": []
  },
  {
   "cell_type": "code",
   "execution_count": 326,
   "metadata": {
    "collapsed": false
   },
   "outputs": [
    {
     "data": {
      "image/png": "[encoded data removed]",
      "text/plain": [
       "<matplotlib.figure.Figure at 0x138583f10>"
      ]
     },
     "metadata": {},
     "output_type": "display_data"
    }
   ],
   "source": [
    "plt.figure(figsize=(14,5))\n",
    "n_models = 3\n",
    "\n",
    "plt.subplot (1, 3, 1)\n",
    "MSE_result = (3.51, 3.72, 3.76)\n",
    "index = np.arange(n_models)\n",
    "opacity = 0.4\n",
    "bar_width = 0.35\n",
    "rects1 = plt.bar(index, MSE_result, bar_width,\n",
    "                 alpha=opacity)\n",
    "\n",
    "plt.xlabel('Recommender models')\n",
    "plt.ylabel('Scores')\n",
    "plt.title('Mean squared error')\n",
    "plt.xticks(index + bar_width / 2, ('FM f1,f5,f6,f8,f11', 'FM f1,f2,f8,f10,f11', 'FM f5,f8,f9,f10,f11'))\n",
    "plt.legend()\n",
    "\n",
    "plt.tight_layout()\n",
    "\n",
    "plt.subplot (1, 3, 2)\n",
    "MSE_result = (0.39, 0.38, 0.35)\n",
    "index = np.arange(n_models)\n",
    "opacity = 0.4\n",
    "bar_width = 0.35\n",
    "rects1 = plt.bar(index, MSE_result, bar_width,\n",
    "                 alpha=opacity, color = 'g')\n",
    "\n",
    "plt.xlabel('Recommender models')\n",
    "plt.ylabel('Scores')\n",
    "plt.title('Spearman')\n",
    "plt.xticks(index + bar_width / 2, ('FM f1,f2,f6,f9,f11', 'FM f2,f5,f6,f8,f9', 'FM f1,f2,f6,f8,f9'))\n",
    "plt.legend()\n",
    "\n",
    "plt.tight_layout()\n",
    "\n",
    "plt.subplot (1, 3, 3)\n",
    "MSE_result = (0.021, 0.016, 0.016)\n",
    "index = np.arange(n_models)\n",
    "opacity = 0.4\n",
    "bar_width = 0.35\n",
    "rects1 = plt.bar(index, MSE_result, bar_width,\n",
    "                 alpha=opacity, color = 'r')\n",
    "\n",
    "plt.xlabel('Recommender models')\n",
    "plt.ylabel('Scores')\n",
    "plt.title('MAP')\n",
    "plt.xticks(index + bar_width / 2, ('FM f1,f5,f8,f10,f11', 'FM f1,f8,f9,f10,f11', 'FM f1,f5,f6,f8,f9'))\n",
    "plt.legend()\n",
    "\n",
    "plt.tight_layout()"
   ]
  },
  {
   "cell_type": "code",
   "execution_count": null,
   "metadata": {
    "collapsed": false
   },
   "outputs": [],
   "source": []
  },
  {
   "cell_type": "code",
   "execution_count": 327,
   "metadata": {
    "collapsed": false
   },
   "outputs": [
    {
     "data": {
      "image/png": "[encoded data removed]",
      "text/plain": [
       "<matplotlib.figure.Figure at 0x13885db50>"
      ]
     },
     "metadata": {},
     "output_type": "display_data"
    }
   ],
   "source": [
    "plt.figure(figsize=(14,5))\n",
    "n_models = 3\n",
    "\n",
    "plt.subplot (1, 3, 1)\n",
    "MSE_result = (3.68, 3.78, 10.76)\n",
    "index = np.arange(n_models)\n",
    "opacity = 0.4\n",
    "bar_width = 0.35\n",
    "rects1 = plt.bar(index, MSE_result, bar_width,\n",
    "                 alpha=opacity)\n",
    "\n",
    "plt.ylabel('Scores')\n",
    "plt.title('Mean squared error')\n",
    "plt.xticks(index + bar_width / 2, ('FM f1,f2,f6,f8,f9,f11', 'FM f1,f5,f6,f8,f9,f10,f11', 'FM f1,f2,f5,f6,f8,f9,f10,f11'), rotation=10)\n",
    "plt.legend()\n",
    "\n",
    "plt.tight_layout()\n",
    "\n",
    "plt.subplot (1, 3, 2)\n",
    "MSE_result = (0.40, 0.35, 0.33)\n",
    "index = np.arange(n_models)\n",
    "opacity = 0.4\n",
    "bar_width = 0.35\n",
    "rects1 = plt.bar(index, MSE_result, bar_width,\n",
    "                 alpha=opacity, color = 'g')\n",
    "\n",
    "plt.ylabel('Scores')\n",
    "plt.title('Spearman')\n",
    "plt.xticks(index + bar_width / 2, ('FM f1,f2,f5,f6,f8,f9', 'FM f2,f5,f6,f8,f9,f10,f11', 'FM f1,f2,f5,f6,f8,f9,f10,f11'), rotation=10)\n",
    "plt.legend()\n",
    "\n",
    "plt.tight_layout()\n",
    "\n",
    "plt.subplot (1, 3, 3)\n",
    "MSE_result = (0.019, 0.015, 0.008)\n",
    "index = np.arange(n_models)\n",
    "opacity = 0.4\n",
    "bar_width = 0.35\n",
    "rects1 = plt.bar(index, MSE_result, bar_width,\n",
    "                 alpha=opacity, color = 'r')\n",
    "\n",
    "plt.ylabel('Scores')\n",
    "plt.title('MAP')\n",
    "plt.xticks(index + bar_width / 2, ('FM f1,f6,f8,f9,f10,f11', 'FM f1,f2,f5,f6,f8,f9,f11', 'FM f1,f2,f5,f6,f8,f9,f10,f11'), rotation=10)\n",
    "plt.legend()"
   ]
  },
  {
   "cell_type": "code",
   "execution_count": null,
   "metadata": {
    "collapsed": true
   },
   "outputs": [],
   "source": []
  }
 ],
 "metadata": {
  "anaconda-cloud": {},
  "kernelspec": {
   "display_name": "Python [conda env:gl-env]",
   "language": "python",
   "name": "conda-env-gl-env-py"
  },
  "language_info": {
   "codemirror_mode": {
    "name": "ipython",
    "version": 2
   },
   "file_extension": ".py",
   "mimetype": "text/x-python",
   "name": "python",
   "nbconvert_exporter": "python",
   "pygments_lexer": "ipython2",
   "version": "2.7.11"
  }
 },
 "nbformat": 4,
 "nbformat_minor": 1
}
